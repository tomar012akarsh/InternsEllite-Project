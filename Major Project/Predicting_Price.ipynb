{
  "cells": [
    {
      "cell_type": "markdown",
      "metadata": {
        "id": "GLHG3fnTY12n"
      },
      "source": [
        "# Predicting used car prices\n",
        "\n",
        "In this notebook, I'll work with the [Kaggle](https://www.kaggle.com/avikasliwal/used-cars-price-prediction) dataset about used cars and their prices. The notebook first includes exploration of the dataset followed by prediction of prices."
      ]
    },
    {
      "cell_type": "markdown",
      "metadata": {
        "id": "E5XYaSWAY12x"
      },
      "source": [
        "## Import libraries\n",
        "\n",
        "I'll import `datetime` to handle year, `numpy` to work with arrays and `pandas` to read in the dataset files, `matplotlib` & `seaborn` for plotting and `sklearn` for various machine learning models."
      ]
    },
    {
      "cell_type": "code",
      "execution_count": 137,
      "metadata": {
        "id": "X62hnPpXY12z"
      },
      "outputs": [],
      "source": [
        "import datetime\n",
        "\n",
        "import numpy as np\n",
        "import pandas as pd\n",
        "\n",
        "import matplotlib.pyplot as plt\n",
        "import seaborn as sns\n",
        "%matplotlib inline\n",
        "\n",
        "from sklearn.model_selection import train_test_split\n",
        "from sklearn.linear_model import LinearRegression\n",
        "from sklearn.ensemble import RandomForestRegressor\n",
        "from sklearn.preprocessing import StandardScaler\n",
        "from sklearn.metrics import r2_score"
      ]
    },
    {
      "cell_type": "markdown",
      "metadata": {
        "id": "t-qwq7_VY122"
      },
      "source": [
        "## Read dataset\n",
        "\n",
        "I'll read the dataset and get information about it."
      ]
    },
    {
      "cell_type": "code",
      "source": [
        "from google.colab import drive\n",
        "drive.mount('/content/drive')"
      ],
      "metadata": {
        "colab": {
          "base_uri": "https://localhost:8080/"
        },
        "id": "-0hfxGS7ZzCU",
        "outputId": "35f53a12-7e0e-4be4-caf9-bdda78adc526"
      },
      "execution_count": 136,
      "outputs": [
        {
          "output_type": "stream",
          "name": "stdout",
          "text": [
            "Drive already mounted at /content/drive; to attempt to forcibly remount, call drive.mount(\"/content/drive\", force_remount=True).\n"
          ]
        }
      ]
    },
    {
      "cell_type": "code",
      "execution_count": 138,
      "metadata": {
        "colab": {
          "base_uri": "https://localhost:8080/",
          "height": 310
        },
        "id": "x3d3WbK1Y122",
        "outputId": "4b628d36-82f7-468e-8437-fb35e5af0cda"
      },
      "outputs": [
        {
          "output_type": "execute_result",
          "data": {
            "text/plain": [
              "   Unnamed: 0                              Name    Location  Year  \\\n",
              "0           0            Maruti Wagon R LXI CNG      Mumbai  2010   \n",
              "1           1  Hyundai Creta 1.6 CRDi SX Option        Pune  2015   \n",
              "2           2                      Honda Jazz V     Chennai  2011   \n",
              "3           3                 Maruti Ertiga VDI     Chennai  2012   \n",
              "4           4   Audi A4 New 2.0 TDI Multitronic  Coimbatore  2013   \n",
              "\n",
              "   Kilometers_Driven Fuel_Type Transmission Owner_Type     Mileage   Engine  \\\n",
              "0              72000       CNG       Manual      First  26.6 km/kg   998 CC   \n",
              "1              41000    Diesel       Manual      First  19.67 kmpl  1582 CC   \n",
              "2              46000    Petrol       Manual      First   18.2 kmpl  1199 CC   \n",
              "3              87000    Diesel       Manual      First  20.77 kmpl  1248 CC   \n",
              "4              40670    Diesel    Automatic     Second   15.2 kmpl  1968 CC   \n",
              "\n",
              "       Power  Seats  New_Price  Price  \n",
              "0  58.16 bhp    5.0        NaN   1.75  \n",
              "1  126.2 bhp    5.0        NaN  12.50  \n",
              "2   88.7 bhp    5.0  8.61 Lakh   4.50  \n",
              "3  88.76 bhp    7.0        NaN   6.00  \n",
              "4  140.8 bhp    5.0        NaN  17.74  "
            ],
            "text/html": [
              "\n",
              "  <div id=\"df-cf3ef5d3-af02-4ac0-a0b5-019008d7819b\" class=\"colab-df-container\">\n",
              "    <div>\n",
              "<style scoped>\n",
              "    .dataframe tbody tr th:only-of-type {\n",
              "        vertical-align: middle;\n",
              "    }\n",
              "\n",
              "    .dataframe tbody tr th {\n",
              "        vertical-align: top;\n",
              "    }\n",
              "\n",
              "    .dataframe thead th {\n",
              "        text-align: right;\n",
              "    }\n",
              "</style>\n",
              "<table border=\"1\" class=\"dataframe\">\n",
              "  <thead>\n",
              "    <tr style=\"text-align: right;\">\n",
              "      <th></th>\n",
              "      <th>Unnamed: 0</th>\n",
              "      <th>Name</th>\n",
              "      <th>Location</th>\n",
              "      <th>Year</th>\n",
              "      <th>Kilometers_Driven</th>\n",
              "      <th>Fuel_Type</th>\n",
              "      <th>Transmission</th>\n",
              "      <th>Owner_Type</th>\n",
              "      <th>Mileage</th>\n",
              "      <th>Engine</th>\n",
              "      <th>Power</th>\n",
              "      <th>Seats</th>\n",
              "      <th>New_Price</th>\n",
              "      <th>Price</th>\n",
              "    </tr>\n",
              "  </thead>\n",
              "  <tbody>\n",
              "    <tr>\n",
              "      <th>0</th>\n",
              "      <td>0</td>\n",
              "      <td>Maruti Wagon R LXI CNG</td>\n",
              "      <td>Mumbai</td>\n",
              "      <td>2010</td>\n",
              "      <td>72000</td>\n",
              "      <td>CNG</td>\n",
              "      <td>Manual</td>\n",
              "      <td>First</td>\n",
              "      <td>26.6 km/kg</td>\n",
              "      <td>998 CC</td>\n",
              "      <td>58.16 bhp</td>\n",
              "      <td>5.0</td>\n",
              "      <td>NaN</td>\n",
              "      <td>1.75</td>\n",
              "    </tr>\n",
              "    <tr>\n",
              "      <th>1</th>\n",
              "      <td>1</td>\n",
              "      <td>Hyundai Creta 1.6 CRDi SX Option</td>\n",
              "      <td>Pune</td>\n",
              "      <td>2015</td>\n",
              "      <td>41000</td>\n",
              "      <td>Diesel</td>\n",
              "      <td>Manual</td>\n",
              "      <td>First</td>\n",
              "      <td>19.67 kmpl</td>\n",
              "      <td>1582 CC</td>\n",
              "      <td>126.2 bhp</td>\n",
              "      <td>5.0</td>\n",
              "      <td>NaN</td>\n",
              "      <td>12.50</td>\n",
              "    </tr>\n",
              "    <tr>\n",
              "      <th>2</th>\n",
              "      <td>2</td>\n",
              "      <td>Honda Jazz V</td>\n",
              "      <td>Chennai</td>\n",
              "      <td>2011</td>\n",
              "      <td>46000</td>\n",
              "      <td>Petrol</td>\n",
              "      <td>Manual</td>\n",
              "      <td>First</td>\n",
              "      <td>18.2 kmpl</td>\n",
              "      <td>1199 CC</td>\n",
              "      <td>88.7 bhp</td>\n",
              "      <td>5.0</td>\n",
              "      <td>8.61 Lakh</td>\n",
              "      <td>4.50</td>\n",
              "    </tr>\n",
              "    <tr>\n",
              "      <th>3</th>\n",
              "      <td>3</td>\n",
              "      <td>Maruti Ertiga VDI</td>\n",
              "      <td>Chennai</td>\n",
              "      <td>2012</td>\n",
              "      <td>87000</td>\n",
              "      <td>Diesel</td>\n",
              "      <td>Manual</td>\n",
              "      <td>First</td>\n",
              "      <td>20.77 kmpl</td>\n",
              "      <td>1248 CC</td>\n",
              "      <td>88.76 bhp</td>\n",
              "      <td>7.0</td>\n",
              "      <td>NaN</td>\n",
              "      <td>6.00</td>\n",
              "    </tr>\n",
              "    <tr>\n",
              "      <th>4</th>\n",
              "      <td>4</td>\n",
              "      <td>Audi A4 New 2.0 TDI Multitronic</td>\n",
              "      <td>Coimbatore</td>\n",
              "      <td>2013</td>\n",
              "      <td>40670</td>\n",
              "      <td>Diesel</td>\n",
              "      <td>Automatic</td>\n",
              "      <td>Second</td>\n",
              "      <td>15.2 kmpl</td>\n",
              "      <td>1968 CC</td>\n",
              "      <td>140.8 bhp</td>\n",
              "      <td>5.0</td>\n",
              "      <td>NaN</td>\n",
              "      <td>17.74</td>\n",
              "    </tr>\n",
              "  </tbody>\n",
              "</table>\n",
              "</div>\n",
              "    <div class=\"colab-df-buttons\">\n",
              "\n",
              "  <div class=\"colab-df-container\">\n",
              "    <button class=\"colab-df-convert\" onclick=\"convertToInteractive('df-cf3ef5d3-af02-4ac0-a0b5-019008d7819b')\"\n",
              "            title=\"Convert this dataframe to an interactive table.\"\n",
              "            style=\"display:none;\">\n",
              "\n",
              "  <svg xmlns=\"http://www.w3.org/2000/svg\" height=\"24px\" viewBox=\"0 -960 960 960\">\n",
              "    <path d=\"M120-120v-720h720v720H120Zm60-500h600v-160H180v160Zm220 220h160v-160H400v160Zm0 220h160v-160H400v160ZM180-400h160v-160H180v160Zm440 0h160v-160H620v160ZM180-180h160v-160H180v160Zm440 0h160v-160H620v160Z\"/>\n",
              "  </svg>\n",
              "    </button>\n",
              "\n",
              "  <style>\n",
              "    .colab-df-container {\n",
              "      display:flex;\n",
              "      gap: 12px;\n",
              "    }\n",
              "\n",
              "    .colab-df-convert {\n",
              "      background-color: #E8F0FE;\n",
              "      border: none;\n",
              "      border-radius: 50%;\n",
              "      cursor: pointer;\n",
              "      display: none;\n",
              "      fill: #1967D2;\n",
              "      height: 32px;\n",
              "      padding: 0 0 0 0;\n",
              "      width: 32px;\n",
              "    }\n",
              "\n",
              "    .colab-df-convert:hover {\n",
              "      background-color: #E2EBFA;\n",
              "      box-shadow: 0px 1px 2px rgba(60, 64, 67, 0.3), 0px 1px 3px 1px rgba(60, 64, 67, 0.15);\n",
              "      fill: #174EA6;\n",
              "    }\n",
              "\n",
              "    .colab-df-buttons div {\n",
              "      margin-bottom: 4px;\n",
              "    }\n",
              "\n",
              "    [theme=dark] .colab-df-convert {\n",
              "      background-color: #3B4455;\n",
              "      fill: #D2E3FC;\n",
              "    }\n",
              "\n",
              "    [theme=dark] .colab-df-convert:hover {\n",
              "      background-color: #434B5C;\n",
              "      box-shadow: 0px 1px 3px 1px rgba(0, 0, 0, 0.15);\n",
              "      filter: drop-shadow(0px 1px 2px rgba(0, 0, 0, 0.3));\n",
              "      fill: #FFFFFF;\n",
              "    }\n",
              "  </style>\n",
              "\n",
              "    <script>\n",
              "      const buttonEl =\n",
              "        document.querySelector('#df-cf3ef5d3-af02-4ac0-a0b5-019008d7819b button.colab-df-convert');\n",
              "      buttonEl.style.display =\n",
              "        google.colab.kernel.accessAllowed ? 'block' : 'none';\n",
              "\n",
              "      async function convertToInteractive(key) {\n",
              "        const element = document.querySelector('#df-cf3ef5d3-af02-4ac0-a0b5-019008d7819b');\n",
              "        const dataTable =\n",
              "          await google.colab.kernel.invokeFunction('convertToInteractive',\n",
              "                                                    [key], {});\n",
              "        if (!dataTable) return;\n",
              "\n",
              "        const docLinkHtml = 'Like what you see? Visit the ' +\n",
              "          '<a target=\"_blank\" href=https://colab.research.google.com/notebooks/data_table.ipynb>data table notebook</a>'\n",
              "          + ' to learn more about interactive tables.';\n",
              "        element.innerHTML = '';\n",
              "        dataTable['output_type'] = 'display_data';\n",
              "        await google.colab.output.renderOutput(dataTable, element);\n",
              "        const docLink = document.createElement('div');\n",
              "        docLink.innerHTML = docLinkHtml;\n",
              "        element.appendChild(docLink);\n",
              "      }\n",
              "    </script>\n",
              "  </div>\n",
              "\n",
              "\n",
              "<div id=\"df-1a354127-bcb7-4f06-b49a-050416130e86\">\n",
              "  <button class=\"colab-df-quickchart\" onclick=\"quickchart('df-1a354127-bcb7-4f06-b49a-050416130e86')\"\n",
              "            title=\"Suggest charts.\"\n",
              "            style=\"display:none;\">\n",
              "\n",
              "<svg xmlns=\"http://www.w3.org/2000/svg\" height=\"24px\"viewBox=\"0 0 24 24\"\n",
              "     width=\"24px\">\n",
              "    <g>\n",
              "        <path d=\"M19 3H5c-1.1 0-2 .9-2 2v14c0 1.1.9 2 2 2h14c1.1 0 2-.9 2-2V5c0-1.1-.9-2-2-2zM9 17H7v-7h2v7zm4 0h-2V7h2v10zm4 0h-2v-4h2v4z\"/>\n",
              "    </g>\n",
              "</svg>\n",
              "  </button>\n",
              "\n",
              "<style>\n",
              "  .colab-df-quickchart {\n",
              "      --bg-color: #E8F0FE;\n",
              "      --fill-color: #1967D2;\n",
              "      --hover-bg-color: #E2EBFA;\n",
              "      --hover-fill-color: #174EA6;\n",
              "      --disabled-fill-color: #AAA;\n",
              "      --disabled-bg-color: #DDD;\n",
              "  }\n",
              "\n",
              "  [theme=dark] .colab-df-quickchart {\n",
              "      --bg-color: #3B4455;\n",
              "      --fill-color: #D2E3FC;\n",
              "      --hover-bg-color: #434B5C;\n",
              "      --hover-fill-color: #FFFFFF;\n",
              "      --disabled-bg-color: #3B4455;\n",
              "      --disabled-fill-color: #666;\n",
              "  }\n",
              "\n",
              "  .colab-df-quickchart {\n",
              "    background-color: var(--bg-color);\n",
              "    border: none;\n",
              "    border-radius: 50%;\n",
              "    cursor: pointer;\n",
              "    display: none;\n",
              "    fill: var(--fill-color);\n",
              "    height: 32px;\n",
              "    padding: 0;\n",
              "    width: 32px;\n",
              "  }\n",
              "\n",
              "  .colab-df-quickchart:hover {\n",
              "    background-color: var(--hover-bg-color);\n",
              "    box-shadow: 0 1px 2px rgba(60, 64, 67, 0.3), 0 1px 3px 1px rgba(60, 64, 67, 0.15);\n",
              "    fill: var(--button-hover-fill-color);\n",
              "  }\n",
              "\n",
              "  .colab-df-quickchart-complete:disabled,\n",
              "  .colab-df-quickchart-complete:disabled:hover {\n",
              "    background-color: var(--disabled-bg-color);\n",
              "    fill: var(--disabled-fill-color);\n",
              "    box-shadow: none;\n",
              "  }\n",
              "\n",
              "  .colab-df-spinner {\n",
              "    border: 2px solid var(--fill-color);\n",
              "    border-color: transparent;\n",
              "    border-bottom-color: var(--fill-color);\n",
              "    animation:\n",
              "      spin 1s steps(1) infinite;\n",
              "  }\n",
              "\n",
              "  @keyframes spin {\n",
              "    0% {\n",
              "      border-color: transparent;\n",
              "      border-bottom-color: var(--fill-color);\n",
              "      border-left-color: var(--fill-color);\n",
              "    }\n",
              "    20% {\n",
              "      border-color: transparent;\n",
              "      border-left-color: var(--fill-color);\n",
              "      border-top-color: var(--fill-color);\n",
              "    }\n",
              "    30% {\n",
              "      border-color: transparent;\n",
              "      border-left-color: var(--fill-color);\n",
              "      border-top-color: var(--fill-color);\n",
              "      border-right-color: var(--fill-color);\n",
              "    }\n",
              "    40% {\n",
              "      border-color: transparent;\n",
              "      border-right-color: var(--fill-color);\n",
              "      border-top-color: var(--fill-color);\n",
              "    }\n",
              "    60% {\n",
              "      border-color: transparent;\n",
              "      border-right-color: var(--fill-color);\n",
              "    }\n",
              "    80% {\n",
              "      border-color: transparent;\n",
              "      border-right-color: var(--fill-color);\n",
              "      border-bottom-color: var(--fill-color);\n",
              "    }\n",
              "    90% {\n",
              "      border-color: transparent;\n",
              "      border-bottom-color: var(--fill-color);\n",
              "    }\n",
              "  }\n",
              "</style>\n",
              "\n",
              "  <script>\n",
              "    async function quickchart(key) {\n",
              "      const quickchartButtonEl =\n",
              "        document.querySelector('#' + key + ' button');\n",
              "      quickchartButtonEl.disabled = true;  // To prevent multiple clicks.\n",
              "      quickchartButtonEl.classList.add('colab-df-spinner');\n",
              "      try {\n",
              "        const charts = await google.colab.kernel.invokeFunction(\n",
              "            'suggestCharts', [key], {});\n",
              "      } catch (error) {\n",
              "        console.error('Error during call to suggestCharts:', error);\n",
              "      }\n",
              "      quickchartButtonEl.classList.remove('colab-df-spinner');\n",
              "      quickchartButtonEl.classList.add('colab-df-quickchart-complete');\n",
              "    }\n",
              "    (() => {\n",
              "      let quickchartButtonEl =\n",
              "        document.querySelector('#df-1a354127-bcb7-4f06-b49a-050416130e86 button');\n",
              "      quickchartButtonEl.style.display =\n",
              "        google.colab.kernel.accessAllowed ? 'block' : 'none';\n",
              "    })();\n",
              "  </script>\n",
              "</div>\n",
              "    </div>\n",
              "  </div>\n"
            ]
          },
          "metadata": {},
          "execution_count": 138
        }
      ],
      "source": [
        "dataset = pd.read_csv(\"/content/drive/MyDrive/Colab Notebooks/Cars.csv\")\n",
        "dataset.head(5)"
      ]
    },
    {
      "cell_type": "markdown",
      "metadata": {
        "id": "5zCd6ZvZY125"
      },
      "source": [
        "Let's first split the dataset into train and test datasets."
      ]
    },
    {
      "cell_type": "code",
      "execution_count": 139,
      "metadata": {
        "id": "oX3zCBQ2Y125"
      },
      "outputs": [],
      "source": [
        "X_train, X_test, y_train, y_test = train_test_split(dataset.iloc[:, :-1],\n",
        "                                                    dataset.iloc[:, -1],\n",
        "                                                    test_size = 0.3,\n",
        "                                                    random_state = 42)"
      ]
    },
    {
      "cell_type": "code",
      "execution_count": 140,
      "metadata": {
        "colab": {
          "base_uri": "https://localhost:8080/"
        },
        "id": "0QOVd_bmY126",
        "outputId": "86f743d7-9f5f-461b-d16d-2c6ecb12ce68"
      },
      "outputs": [
        {
          "output_type": "stream",
          "name": "stdout",
          "text": [
            "<class 'pandas.core.frame.DataFrame'>\n",
            "Int64Index: 4213 entries, 4201 to 860\n",
            "Data columns (total 13 columns):\n",
            " #   Column             Non-Null Count  Dtype  \n",
            "---  ------             --------------  -----  \n",
            " 0   Unnamed: 0         4213 non-null   int64  \n",
            " 1   Name               4213 non-null   object \n",
            " 2   Location           4213 non-null   object \n",
            " 3   Year               4213 non-null   int64  \n",
            " 4   Kilometers_Driven  4213 non-null   int64  \n",
            " 5   Fuel_Type          4213 non-null   object \n",
            " 6   Transmission       4213 non-null   object \n",
            " 7   Owner_Type         4213 non-null   object \n",
            " 8   Mileage            4212 non-null   object \n",
            " 9   Engine             4189 non-null   object \n",
            " 10  Power              4189 non-null   object \n",
            " 11  Seats              4185 non-null   float64\n",
            " 12  New_Price          580 non-null    object \n",
            "dtypes: float64(1), int64(3), object(9)\n",
            "memory usage: 460.8+ KB\n"
          ]
        }
      ],
      "source": [
        "X_train.info()"
      ]
    },
    {
      "cell_type": "markdown",
      "source": [
        "**Feature Enginering**\n",
        "\n",
        "Explanation is attached with the actions."
      ],
      "metadata": {
        "id": "y_IcCMrclAFJ"
      }
    },
    {
      "cell_type": "markdown",
      "source": [
        "converting datatype"
      ],
      "metadata": {
        "id": "wKre7Ti4lGMX"
      }
    },
    {
      "cell_type": "code",
      "source": [
        "#converting object data type to category data type\n",
        "dataset[\"Fuel_Type\"] = dataset[\"Fuel_Type\"].astype(\"category\")\n",
        "dataset[\"Transmission\"] = dataset[\"Transmission\"].astype(\"category\")\n",
        "dataset[\"Owner_Type\"] = dataset[\"Owner_Type\"].astype(\"category\")\n"
      ],
      "metadata": {
        "id": "Ed9JmT9SlIqg"
      },
      "execution_count": 141,
      "outputs": []
    },
    {
      "cell_type": "code",
      "source": [
        "dataset.describe().T"
      ],
      "metadata": {
        "colab": {
          "base_uri": "https://localhost:8080/",
          "height": 206
        },
        "id": "6EF9eHUnlbMl",
        "outputId": "2099f6bd-e075-4b68-b4d5-cd2cb91fc264"
      },
      "execution_count": 142,
      "outputs": [
        {
          "output_type": "execute_result",
          "data": {
            "text/plain": [
              "                    count          mean           std      min      25%  \\\n",
              "Unnamed: 0         6019.0   3009.000000   1737.679967     0.00   1504.5   \n",
              "Year               6019.0   2013.358199      3.269742  1998.00   2011.0   \n",
              "Kilometers_Driven  6019.0  58738.380296  91268.843206   171.00  34000.0   \n",
              "Seats              5977.0      5.278735      0.808840     0.00      5.0   \n",
              "Price              6019.0      9.479468     11.187917     0.44      3.5   \n",
              "\n",
              "                        50%       75%        max  \n",
              "Unnamed: 0          3009.00   4513.50     6018.0  \n",
              "Year                2014.00   2016.00     2019.0  \n",
              "Kilometers_Driven  53000.00  73000.00  6500000.0  \n",
              "Seats                  5.00      5.00       10.0  \n",
              "Price                  5.64      9.95      160.0  "
            ],
            "text/html": [
              "\n",
              "  <div id=\"df-d7584293-c3f4-4c78-a7e8-1cdf9d63d984\" class=\"colab-df-container\">\n",
              "    <div>\n",
              "<style scoped>\n",
              "    .dataframe tbody tr th:only-of-type {\n",
              "        vertical-align: middle;\n",
              "    }\n",
              "\n",
              "    .dataframe tbody tr th {\n",
              "        vertical-align: top;\n",
              "    }\n",
              "\n",
              "    .dataframe thead th {\n",
              "        text-align: right;\n",
              "    }\n",
              "</style>\n",
              "<table border=\"1\" class=\"dataframe\">\n",
              "  <thead>\n",
              "    <tr style=\"text-align: right;\">\n",
              "      <th></th>\n",
              "      <th>count</th>\n",
              "      <th>mean</th>\n",
              "      <th>std</th>\n",
              "      <th>min</th>\n",
              "      <th>25%</th>\n",
              "      <th>50%</th>\n",
              "      <th>75%</th>\n",
              "      <th>max</th>\n",
              "    </tr>\n",
              "  </thead>\n",
              "  <tbody>\n",
              "    <tr>\n",
              "      <th>Unnamed: 0</th>\n",
              "      <td>6019.0</td>\n",
              "      <td>3009.000000</td>\n",
              "      <td>1737.679967</td>\n",
              "      <td>0.00</td>\n",
              "      <td>1504.5</td>\n",
              "      <td>3009.00</td>\n",
              "      <td>4513.50</td>\n",
              "      <td>6018.0</td>\n",
              "    </tr>\n",
              "    <tr>\n",
              "      <th>Year</th>\n",
              "      <td>6019.0</td>\n",
              "      <td>2013.358199</td>\n",
              "      <td>3.269742</td>\n",
              "      <td>1998.00</td>\n",
              "      <td>2011.0</td>\n",
              "      <td>2014.00</td>\n",
              "      <td>2016.00</td>\n",
              "      <td>2019.0</td>\n",
              "    </tr>\n",
              "    <tr>\n",
              "      <th>Kilometers_Driven</th>\n",
              "      <td>6019.0</td>\n",
              "      <td>58738.380296</td>\n",
              "      <td>91268.843206</td>\n",
              "      <td>171.00</td>\n",
              "      <td>34000.0</td>\n",
              "      <td>53000.00</td>\n",
              "      <td>73000.00</td>\n",
              "      <td>6500000.0</td>\n",
              "    </tr>\n",
              "    <tr>\n",
              "      <th>Seats</th>\n",
              "      <td>5977.0</td>\n",
              "      <td>5.278735</td>\n",
              "      <td>0.808840</td>\n",
              "      <td>0.00</td>\n",
              "      <td>5.0</td>\n",
              "      <td>5.00</td>\n",
              "      <td>5.00</td>\n",
              "      <td>10.0</td>\n",
              "    </tr>\n",
              "    <tr>\n",
              "      <th>Price</th>\n",
              "      <td>6019.0</td>\n",
              "      <td>9.479468</td>\n",
              "      <td>11.187917</td>\n",
              "      <td>0.44</td>\n",
              "      <td>3.5</td>\n",
              "      <td>5.64</td>\n",
              "      <td>9.95</td>\n",
              "      <td>160.0</td>\n",
              "    </tr>\n",
              "  </tbody>\n",
              "</table>\n",
              "</div>\n",
              "    <div class=\"colab-df-buttons\">\n",
              "\n",
              "  <div class=\"colab-df-container\">\n",
              "    <button class=\"colab-df-convert\" onclick=\"convertToInteractive('df-d7584293-c3f4-4c78-a7e8-1cdf9d63d984')\"\n",
              "            title=\"Convert this dataframe to an interactive table.\"\n",
              "            style=\"display:none;\">\n",
              "\n",
              "  <svg xmlns=\"http://www.w3.org/2000/svg\" height=\"24px\" viewBox=\"0 -960 960 960\">\n",
              "    <path d=\"M120-120v-720h720v720H120Zm60-500h600v-160H180v160Zm220 220h160v-160H400v160Zm0 220h160v-160H400v160ZM180-400h160v-160H180v160Zm440 0h160v-160H620v160ZM180-180h160v-160H180v160Zm440 0h160v-160H620v160Z\"/>\n",
              "  </svg>\n",
              "    </button>\n",
              "\n",
              "  <style>\n",
              "    .colab-df-container {\n",
              "      display:flex;\n",
              "      gap: 12px;\n",
              "    }\n",
              "\n",
              "    .colab-df-convert {\n",
              "      background-color: #E8F0FE;\n",
              "      border: none;\n",
              "      border-radius: 50%;\n",
              "      cursor: pointer;\n",
              "      display: none;\n",
              "      fill: #1967D2;\n",
              "      height: 32px;\n",
              "      padding: 0 0 0 0;\n",
              "      width: 32px;\n",
              "    }\n",
              "\n",
              "    .colab-df-convert:hover {\n",
              "      background-color: #E2EBFA;\n",
              "      box-shadow: 0px 1px 2px rgba(60, 64, 67, 0.3), 0px 1px 3px 1px rgba(60, 64, 67, 0.15);\n",
              "      fill: #174EA6;\n",
              "    }\n",
              "\n",
              "    .colab-df-buttons div {\n",
              "      margin-bottom: 4px;\n",
              "    }\n",
              "\n",
              "    [theme=dark] .colab-df-convert {\n",
              "      background-color: #3B4455;\n",
              "      fill: #D2E3FC;\n",
              "    }\n",
              "\n",
              "    [theme=dark] .colab-df-convert:hover {\n",
              "      background-color: #434B5C;\n",
              "      box-shadow: 0px 1px 3px 1px rgba(0, 0, 0, 0.15);\n",
              "      filter: drop-shadow(0px 1px 2px rgba(0, 0, 0, 0.3));\n",
              "      fill: #FFFFFF;\n",
              "    }\n",
              "  </style>\n",
              "\n",
              "    <script>\n",
              "      const buttonEl =\n",
              "        document.querySelector('#df-d7584293-c3f4-4c78-a7e8-1cdf9d63d984 button.colab-df-convert');\n",
              "      buttonEl.style.display =\n",
              "        google.colab.kernel.accessAllowed ? 'block' : 'none';\n",
              "\n",
              "      async function convertToInteractive(key) {\n",
              "        const element = document.querySelector('#df-d7584293-c3f4-4c78-a7e8-1cdf9d63d984');\n",
              "        const dataTable =\n",
              "          await google.colab.kernel.invokeFunction('convertToInteractive',\n",
              "                                                    [key], {});\n",
              "        if (!dataTable) return;\n",
              "\n",
              "        const docLinkHtml = 'Like what you see? Visit the ' +\n",
              "          '<a target=\"_blank\" href=https://colab.research.google.com/notebooks/data_table.ipynb>data table notebook</a>'\n",
              "          + ' to learn more about interactive tables.';\n",
              "        element.innerHTML = '';\n",
              "        dataTable['output_type'] = 'display_data';\n",
              "        await google.colab.output.renderOutput(dataTable, element);\n",
              "        const docLink = document.createElement('div');\n",
              "        docLink.innerHTML = docLinkHtml;\n",
              "        element.appendChild(docLink);\n",
              "      }\n",
              "    </script>\n",
              "  </div>\n",
              "\n",
              "\n",
              "<div id=\"df-d3dd529e-8783-4e4a-a216-eee17eed257b\">\n",
              "  <button class=\"colab-df-quickchart\" onclick=\"quickchart('df-d3dd529e-8783-4e4a-a216-eee17eed257b')\"\n",
              "            title=\"Suggest charts.\"\n",
              "            style=\"display:none;\">\n",
              "\n",
              "<svg xmlns=\"http://www.w3.org/2000/svg\" height=\"24px\"viewBox=\"0 0 24 24\"\n",
              "     width=\"24px\">\n",
              "    <g>\n",
              "        <path d=\"M19 3H5c-1.1 0-2 .9-2 2v14c0 1.1.9 2 2 2h14c1.1 0 2-.9 2-2V5c0-1.1-.9-2-2-2zM9 17H7v-7h2v7zm4 0h-2V7h2v10zm4 0h-2v-4h2v4z\"/>\n",
              "    </g>\n",
              "</svg>\n",
              "  </button>\n",
              "\n",
              "<style>\n",
              "  .colab-df-quickchart {\n",
              "      --bg-color: #E8F0FE;\n",
              "      --fill-color: #1967D2;\n",
              "      --hover-bg-color: #E2EBFA;\n",
              "      --hover-fill-color: #174EA6;\n",
              "      --disabled-fill-color: #AAA;\n",
              "      --disabled-bg-color: #DDD;\n",
              "  }\n",
              "\n",
              "  [theme=dark] .colab-df-quickchart {\n",
              "      --bg-color: #3B4455;\n",
              "      --fill-color: #D2E3FC;\n",
              "      --hover-bg-color: #434B5C;\n",
              "      --hover-fill-color: #FFFFFF;\n",
              "      --disabled-bg-color: #3B4455;\n",
              "      --disabled-fill-color: #666;\n",
              "  }\n",
              "\n",
              "  .colab-df-quickchart {\n",
              "    background-color: var(--bg-color);\n",
              "    border: none;\n",
              "    border-radius: 50%;\n",
              "    cursor: pointer;\n",
              "    display: none;\n",
              "    fill: var(--fill-color);\n",
              "    height: 32px;\n",
              "    padding: 0;\n",
              "    width: 32px;\n",
              "  }\n",
              "\n",
              "  .colab-df-quickchart:hover {\n",
              "    background-color: var(--hover-bg-color);\n",
              "    box-shadow: 0 1px 2px rgba(60, 64, 67, 0.3), 0 1px 3px 1px rgba(60, 64, 67, 0.15);\n",
              "    fill: var(--button-hover-fill-color);\n",
              "  }\n",
              "\n",
              "  .colab-df-quickchart-complete:disabled,\n",
              "  .colab-df-quickchart-complete:disabled:hover {\n",
              "    background-color: var(--disabled-bg-color);\n",
              "    fill: var(--disabled-fill-color);\n",
              "    box-shadow: none;\n",
              "  }\n",
              "\n",
              "  .colab-df-spinner {\n",
              "    border: 2px solid var(--fill-color);\n",
              "    border-color: transparent;\n",
              "    border-bottom-color: var(--fill-color);\n",
              "    animation:\n",
              "      spin 1s steps(1) infinite;\n",
              "  }\n",
              "\n",
              "  @keyframes spin {\n",
              "    0% {\n",
              "      border-color: transparent;\n",
              "      border-bottom-color: var(--fill-color);\n",
              "      border-left-color: var(--fill-color);\n",
              "    }\n",
              "    20% {\n",
              "      border-color: transparent;\n",
              "      border-left-color: var(--fill-color);\n",
              "      border-top-color: var(--fill-color);\n",
              "    }\n",
              "    30% {\n",
              "      border-color: transparent;\n",
              "      border-left-color: var(--fill-color);\n",
              "      border-top-color: var(--fill-color);\n",
              "      border-right-color: var(--fill-color);\n",
              "    }\n",
              "    40% {\n",
              "      border-color: transparent;\n",
              "      border-right-color: var(--fill-color);\n",
              "      border-top-color: var(--fill-color);\n",
              "    }\n",
              "    60% {\n",
              "      border-color: transparent;\n",
              "      border-right-color: var(--fill-color);\n",
              "    }\n",
              "    80% {\n",
              "      border-color: transparent;\n",
              "      border-right-color: var(--fill-color);\n",
              "      border-bottom-color: var(--fill-color);\n",
              "    }\n",
              "    90% {\n",
              "      border-color: transparent;\n",
              "      border-bottom-color: var(--fill-color);\n",
              "    }\n",
              "  }\n",
              "</style>\n",
              "\n",
              "  <script>\n",
              "    async function quickchart(key) {\n",
              "      const quickchartButtonEl =\n",
              "        document.querySelector('#' + key + ' button');\n",
              "      quickchartButtonEl.disabled = true;  // To prevent multiple clicks.\n",
              "      quickchartButtonEl.classList.add('colab-df-spinner');\n",
              "      try {\n",
              "        const charts = await google.colab.kernel.invokeFunction(\n",
              "            'suggestCharts', [key], {});\n",
              "      } catch (error) {\n",
              "        console.error('Error during call to suggestCharts:', error);\n",
              "      }\n",
              "      quickchartButtonEl.classList.remove('colab-df-spinner');\n",
              "      quickchartButtonEl.classList.add('colab-df-quickchart-complete');\n",
              "    }\n",
              "    (() => {\n",
              "      let quickchartButtonEl =\n",
              "        document.querySelector('#df-d3dd529e-8783-4e4a-a216-eee17eed257b button');\n",
              "      quickchartButtonEl.style.display =\n",
              "        google.colab.kernel.accessAllowed ? 'block' : 'none';\n",
              "    })();\n",
              "  </script>\n",
              "</div>\n",
              "    </div>\n",
              "  </div>\n"
            ]
          },
          "metadata": {},
          "execution_count": 142
        }
      ]
    },
    {
      "cell_type": "markdown",
      "source": [
        "**Processing Years to Derive Age of car**\n",
        "\n",
        "Since year has 2014, 1996 etc. But this will not help to understand how old cars is and its effect on price. so creating two new columns current year and Age . Current year would be 2023 and Age column would be Ageofcar= currentyear-year. And then drop currentyear columns"
      ],
      "metadata": {
        "id": "sWtAzEchli63"
      }
    },
    {
      "cell_type": "code",
      "source": [
        "dataset['Current_year']=2023\n",
        "dataset['Ageofcar']=dataset['Current_year']-dataset['Year']\n",
        "dataset.drop('Current_year',axis=1,inplace=True)\n",
        "dataset.head()"
      ],
      "metadata": {
        "colab": {
          "base_uri": "https://localhost:8080/",
          "height": 380
        },
        "id": "MKamNs5Hlk3F",
        "outputId": "098e0ec2-08d9-4a26-9436-b3c5e76a31c5"
      },
      "execution_count": 143,
      "outputs": [
        {
          "output_type": "execute_result",
          "data": {
            "text/plain": [
              "   Unnamed: 0                              Name    Location  Year  \\\n",
              "0           0            Maruti Wagon R LXI CNG      Mumbai  2010   \n",
              "1           1  Hyundai Creta 1.6 CRDi SX Option        Pune  2015   \n",
              "2           2                      Honda Jazz V     Chennai  2011   \n",
              "3           3                 Maruti Ertiga VDI     Chennai  2012   \n",
              "4           4   Audi A4 New 2.0 TDI Multitronic  Coimbatore  2013   \n",
              "\n",
              "   Kilometers_Driven Fuel_Type Transmission Owner_Type     Mileage   Engine  \\\n",
              "0              72000       CNG       Manual      First  26.6 km/kg   998 CC   \n",
              "1              41000    Diesel       Manual      First  19.67 kmpl  1582 CC   \n",
              "2              46000    Petrol       Manual      First   18.2 kmpl  1199 CC   \n",
              "3              87000    Diesel       Manual      First  20.77 kmpl  1248 CC   \n",
              "4              40670    Diesel    Automatic     Second   15.2 kmpl  1968 CC   \n",
              "\n",
              "       Power  Seats  New_Price  Price  Ageofcar  \n",
              "0  58.16 bhp    5.0        NaN   1.75        13  \n",
              "1  126.2 bhp    5.0        NaN  12.50         8  \n",
              "2   88.7 bhp    5.0  8.61 Lakh   4.50        12  \n",
              "3  88.76 bhp    7.0        NaN   6.00        11  \n",
              "4  140.8 bhp    5.0        NaN  17.74        10  "
            ],
            "text/html": [
              "\n",
              "  <div id=\"df-14c00ff6-c332-4dc5-aa7e-83bdc79be351\" class=\"colab-df-container\">\n",
              "    <div>\n",
              "<style scoped>\n",
              "    .dataframe tbody tr th:only-of-type {\n",
              "        vertical-align: middle;\n",
              "    }\n",
              "\n",
              "    .dataframe tbody tr th {\n",
              "        vertical-align: top;\n",
              "    }\n",
              "\n",
              "    .dataframe thead th {\n",
              "        text-align: right;\n",
              "    }\n",
              "</style>\n",
              "<table border=\"1\" class=\"dataframe\">\n",
              "  <thead>\n",
              "    <tr style=\"text-align: right;\">\n",
              "      <th></th>\n",
              "      <th>Unnamed: 0</th>\n",
              "      <th>Name</th>\n",
              "      <th>Location</th>\n",
              "      <th>Year</th>\n",
              "      <th>Kilometers_Driven</th>\n",
              "      <th>Fuel_Type</th>\n",
              "      <th>Transmission</th>\n",
              "      <th>Owner_Type</th>\n",
              "      <th>Mileage</th>\n",
              "      <th>Engine</th>\n",
              "      <th>Power</th>\n",
              "      <th>Seats</th>\n",
              "      <th>New_Price</th>\n",
              "      <th>Price</th>\n",
              "      <th>Ageofcar</th>\n",
              "    </tr>\n",
              "  </thead>\n",
              "  <tbody>\n",
              "    <tr>\n",
              "      <th>0</th>\n",
              "      <td>0</td>\n",
              "      <td>Maruti Wagon R LXI CNG</td>\n",
              "      <td>Mumbai</td>\n",
              "      <td>2010</td>\n",
              "      <td>72000</td>\n",
              "      <td>CNG</td>\n",
              "      <td>Manual</td>\n",
              "      <td>First</td>\n",
              "      <td>26.6 km/kg</td>\n",
              "      <td>998 CC</td>\n",
              "      <td>58.16 bhp</td>\n",
              "      <td>5.0</td>\n",
              "      <td>NaN</td>\n",
              "      <td>1.75</td>\n",
              "      <td>13</td>\n",
              "    </tr>\n",
              "    <tr>\n",
              "      <th>1</th>\n",
              "      <td>1</td>\n",
              "      <td>Hyundai Creta 1.6 CRDi SX Option</td>\n",
              "      <td>Pune</td>\n",
              "      <td>2015</td>\n",
              "      <td>41000</td>\n",
              "      <td>Diesel</td>\n",
              "      <td>Manual</td>\n",
              "      <td>First</td>\n",
              "      <td>19.67 kmpl</td>\n",
              "      <td>1582 CC</td>\n",
              "      <td>126.2 bhp</td>\n",
              "      <td>5.0</td>\n",
              "      <td>NaN</td>\n",
              "      <td>12.50</td>\n",
              "      <td>8</td>\n",
              "    </tr>\n",
              "    <tr>\n",
              "      <th>2</th>\n",
              "      <td>2</td>\n",
              "      <td>Honda Jazz V</td>\n",
              "      <td>Chennai</td>\n",
              "      <td>2011</td>\n",
              "      <td>46000</td>\n",
              "      <td>Petrol</td>\n",
              "      <td>Manual</td>\n",
              "      <td>First</td>\n",
              "      <td>18.2 kmpl</td>\n",
              "      <td>1199 CC</td>\n",
              "      <td>88.7 bhp</td>\n",
              "      <td>5.0</td>\n",
              "      <td>8.61 Lakh</td>\n",
              "      <td>4.50</td>\n",
              "      <td>12</td>\n",
              "    </tr>\n",
              "    <tr>\n",
              "      <th>3</th>\n",
              "      <td>3</td>\n",
              "      <td>Maruti Ertiga VDI</td>\n",
              "      <td>Chennai</td>\n",
              "      <td>2012</td>\n",
              "      <td>87000</td>\n",
              "      <td>Diesel</td>\n",
              "      <td>Manual</td>\n",
              "      <td>First</td>\n",
              "      <td>20.77 kmpl</td>\n",
              "      <td>1248 CC</td>\n",
              "      <td>88.76 bhp</td>\n",
              "      <td>7.0</td>\n",
              "      <td>NaN</td>\n",
              "      <td>6.00</td>\n",
              "      <td>11</td>\n",
              "    </tr>\n",
              "    <tr>\n",
              "      <th>4</th>\n",
              "      <td>4</td>\n",
              "      <td>Audi A4 New 2.0 TDI Multitronic</td>\n",
              "      <td>Coimbatore</td>\n",
              "      <td>2013</td>\n",
              "      <td>40670</td>\n",
              "      <td>Diesel</td>\n",
              "      <td>Automatic</td>\n",
              "      <td>Second</td>\n",
              "      <td>15.2 kmpl</td>\n",
              "      <td>1968 CC</td>\n",
              "      <td>140.8 bhp</td>\n",
              "      <td>5.0</td>\n",
              "      <td>NaN</td>\n",
              "      <td>17.74</td>\n",
              "      <td>10</td>\n",
              "    </tr>\n",
              "  </tbody>\n",
              "</table>\n",
              "</div>\n",
              "    <div class=\"colab-df-buttons\">\n",
              "\n",
              "  <div class=\"colab-df-container\">\n",
              "    <button class=\"colab-df-convert\" onclick=\"convertToInteractive('df-14c00ff6-c332-4dc5-aa7e-83bdc79be351')\"\n",
              "            title=\"Convert this dataframe to an interactive table.\"\n",
              "            style=\"display:none;\">\n",
              "\n",
              "  <svg xmlns=\"http://www.w3.org/2000/svg\" height=\"24px\" viewBox=\"0 -960 960 960\">\n",
              "    <path d=\"M120-120v-720h720v720H120Zm60-500h600v-160H180v160Zm220 220h160v-160H400v160Zm0 220h160v-160H400v160ZM180-400h160v-160H180v160Zm440 0h160v-160H620v160ZM180-180h160v-160H180v160Zm440 0h160v-160H620v160Z\"/>\n",
              "  </svg>\n",
              "    </button>\n",
              "\n",
              "  <style>\n",
              "    .colab-df-container {\n",
              "      display:flex;\n",
              "      gap: 12px;\n",
              "    }\n",
              "\n",
              "    .colab-df-convert {\n",
              "      background-color: #E8F0FE;\n",
              "      border: none;\n",
              "      border-radius: 50%;\n",
              "      cursor: pointer;\n",
              "      display: none;\n",
              "      fill: #1967D2;\n",
              "      height: 32px;\n",
              "      padding: 0 0 0 0;\n",
              "      width: 32px;\n",
              "    }\n",
              "\n",
              "    .colab-df-convert:hover {\n",
              "      background-color: #E2EBFA;\n",
              "      box-shadow: 0px 1px 2px rgba(60, 64, 67, 0.3), 0px 1px 3px 1px rgba(60, 64, 67, 0.15);\n",
              "      fill: #174EA6;\n",
              "    }\n",
              "\n",
              "    .colab-df-buttons div {\n",
              "      margin-bottom: 4px;\n",
              "    }\n",
              "\n",
              "    [theme=dark] .colab-df-convert {\n",
              "      background-color: #3B4455;\n",
              "      fill: #D2E3FC;\n",
              "    }\n",
              "\n",
              "    [theme=dark] .colab-df-convert:hover {\n",
              "      background-color: #434B5C;\n",
              "      box-shadow: 0px 1px 3px 1px rgba(0, 0, 0, 0.15);\n",
              "      filter: drop-shadow(0px 1px 2px rgba(0, 0, 0, 0.3));\n",
              "      fill: #FFFFFF;\n",
              "    }\n",
              "  </style>\n",
              "\n",
              "    <script>\n",
              "      const buttonEl =\n",
              "        document.querySelector('#df-14c00ff6-c332-4dc5-aa7e-83bdc79be351 button.colab-df-convert');\n",
              "      buttonEl.style.display =\n",
              "        google.colab.kernel.accessAllowed ? 'block' : 'none';\n",
              "\n",
              "      async function convertToInteractive(key) {\n",
              "        const element = document.querySelector('#df-14c00ff6-c332-4dc5-aa7e-83bdc79be351');\n",
              "        const dataTable =\n",
              "          await google.colab.kernel.invokeFunction('convertToInteractive',\n",
              "                                                    [key], {});\n",
              "        if (!dataTable) return;\n",
              "\n",
              "        const docLinkHtml = 'Like what you see? Visit the ' +\n",
              "          '<a target=\"_blank\" href=https://colab.research.google.com/notebooks/data_table.ipynb>data table notebook</a>'\n",
              "          + ' to learn more about interactive tables.';\n",
              "        element.innerHTML = '';\n",
              "        dataTable['output_type'] = 'display_data';\n",
              "        await google.colab.output.renderOutput(dataTable, element);\n",
              "        const docLink = document.createElement('div');\n",
              "        docLink.innerHTML = docLinkHtml;\n",
              "        element.appendChild(docLink);\n",
              "      }\n",
              "    </script>\n",
              "  </div>\n",
              "\n",
              "\n",
              "<div id=\"df-4f43420e-eeaa-49a7-bab1-bf1413880f19\">\n",
              "  <button class=\"colab-df-quickchart\" onclick=\"quickchart('df-4f43420e-eeaa-49a7-bab1-bf1413880f19')\"\n",
              "            title=\"Suggest charts.\"\n",
              "            style=\"display:none;\">\n",
              "\n",
              "<svg xmlns=\"http://www.w3.org/2000/svg\" height=\"24px\"viewBox=\"0 0 24 24\"\n",
              "     width=\"24px\">\n",
              "    <g>\n",
              "        <path d=\"M19 3H5c-1.1 0-2 .9-2 2v14c0 1.1.9 2 2 2h14c1.1 0 2-.9 2-2V5c0-1.1-.9-2-2-2zM9 17H7v-7h2v7zm4 0h-2V7h2v10zm4 0h-2v-4h2v4z\"/>\n",
              "    </g>\n",
              "</svg>\n",
              "  </button>\n",
              "\n",
              "<style>\n",
              "  .colab-df-quickchart {\n",
              "      --bg-color: #E8F0FE;\n",
              "      --fill-color: #1967D2;\n",
              "      --hover-bg-color: #E2EBFA;\n",
              "      --hover-fill-color: #174EA6;\n",
              "      --disabled-fill-color: #AAA;\n",
              "      --disabled-bg-color: #DDD;\n",
              "  }\n",
              "\n",
              "  [theme=dark] .colab-df-quickchart {\n",
              "      --bg-color: #3B4455;\n",
              "      --fill-color: #D2E3FC;\n",
              "      --hover-bg-color: #434B5C;\n",
              "      --hover-fill-color: #FFFFFF;\n",
              "      --disabled-bg-color: #3B4455;\n",
              "      --disabled-fill-color: #666;\n",
              "  }\n",
              "\n",
              "  .colab-df-quickchart {\n",
              "    background-color: var(--bg-color);\n",
              "    border: none;\n",
              "    border-radius: 50%;\n",
              "    cursor: pointer;\n",
              "    display: none;\n",
              "    fill: var(--fill-color);\n",
              "    height: 32px;\n",
              "    padding: 0;\n",
              "    width: 32px;\n",
              "  }\n",
              "\n",
              "  .colab-df-quickchart:hover {\n",
              "    background-color: var(--hover-bg-color);\n",
              "    box-shadow: 0 1px 2px rgba(60, 64, 67, 0.3), 0 1px 3px 1px rgba(60, 64, 67, 0.15);\n",
              "    fill: var(--button-hover-fill-color);\n",
              "  }\n",
              "\n",
              "  .colab-df-quickchart-complete:disabled,\n",
              "  .colab-df-quickchart-complete:disabled:hover {\n",
              "    background-color: var(--disabled-bg-color);\n",
              "    fill: var(--disabled-fill-color);\n",
              "    box-shadow: none;\n",
              "  }\n",
              "\n",
              "  .colab-df-spinner {\n",
              "    border: 2px solid var(--fill-color);\n",
              "    border-color: transparent;\n",
              "    border-bottom-color: var(--fill-color);\n",
              "    animation:\n",
              "      spin 1s steps(1) infinite;\n",
              "  }\n",
              "\n",
              "  @keyframes spin {\n",
              "    0% {\n",
              "      border-color: transparent;\n",
              "      border-bottom-color: var(--fill-color);\n",
              "      border-left-color: var(--fill-color);\n",
              "    }\n",
              "    20% {\n",
              "      border-color: transparent;\n",
              "      border-left-color: var(--fill-color);\n",
              "      border-top-color: var(--fill-color);\n",
              "    }\n",
              "    30% {\n",
              "      border-color: transparent;\n",
              "      border-left-color: var(--fill-color);\n",
              "      border-top-color: var(--fill-color);\n",
              "      border-right-color: var(--fill-color);\n",
              "    }\n",
              "    40% {\n",
              "      border-color: transparent;\n",
              "      border-right-color: var(--fill-color);\n",
              "      border-top-color: var(--fill-color);\n",
              "    }\n",
              "    60% {\n",
              "      border-color: transparent;\n",
              "      border-right-color: var(--fill-color);\n",
              "    }\n",
              "    80% {\n",
              "      border-color: transparent;\n",
              "      border-right-color: var(--fill-color);\n",
              "      border-bottom-color: var(--fill-color);\n",
              "    }\n",
              "    90% {\n",
              "      border-color: transparent;\n",
              "      border-bottom-color: var(--fill-color);\n",
              "    }\n",
              "  }\n",
              "</style>\n",
              "\n",
              "  <script>\n",
              "    async function quickchart(key) {\n",
              "      const quickchartButtonEl =\n",
              "        document.querySelector('#' + key + ' button');\n",
              "      quickchartButtonEl.disabled = true;  // To prevent multiple clicks.\n",
              "      quickchartButtonEl.classList.add('colab-df-spinner');\n",
              "      try {\n",
              "        const charts = await google.colab.kernel.invokeFunction(\n",
              "            'suggestCharts', [key], {});\n",
              "      } catch (error) {\n",
              "        console.error('Error during call to suggestCharts:', error);\n",
              "      }\n",
              "      quickchartButtonEl.classList.remove('colab-df-spinner');\n",
              "      quickchartButtonEl.classList.add('colab-df-quickchart-complete');\n",
              "    }\n",
              "    (() => {\n",
              "      let quickchartButtonEl =\n",
              "        document.querySelector('#df-4f43420e-eeaa-49a7-bab1-bf1413880f19 button');\n",
              "      quickchartButtonEl.style.display =\n",
              "        google.colab.kernel.accessAllowed ? 'block' : 'none';\n",
              "    })();\n",
              "  </script>\n",
              "</div>\n",
              "    </div>\n",
              "  </div>\n"
            ]
          },
          "metadata": {},
          "execution_count": 143
        }
      ]
    },
    {
      "cell_type": "markdown",
      "source": [
        "**Processing Name column**"
      ],
      "metadata": {
        "id": "FjPIckjwlzbg"
      }
    },
    {
      "cell_type": "code",
      "source": [
        "dataset.dropna(subset=['Name'], inplace=True)\n"
      ],
      "metadata": {
        "id": "0fF6InO_l0JR"
      },
      "execution_count": 144,
      "outputs": []
    },
    {
      "cell_type": "code",
      "source": [
        "#As mentioned in dataset car name has Brand and model so extracting it ,This can help to fill missing values of price column as brand\n",
        "dataset['Brand'] = dataset['Name'].str.split(' ').str[0] #Separating Brand name from the Name\n",
        "dataset['Model'] = dataset['Name'].str.split(' ').str[1] + dataset['Name'].str.split(' ').str[2]"
      ],
      "metadata": {
        "id": "J9dyXtxsmGG6"
      },
      "execution_count": 145,
      "outputs": []
    },
    {
      "cell_type": "code",
      "source": [
        "dataset.Brand.unique()"
      ],
      "metadata": {
        "colab": {
          "base_uri": "https://localhost:8080/"
        },
        "id": "6MxZLR0VmIj3",
        "outputId": "45c38d57-9602-4f4b-8b8f-5810950e62d0"
      },
      "execution_count": 146,
      "outputs": [
        {
          "output_type": "execute_result",
          "data": {
            "text/plain": [
              "array(['Maruti', 'Hyundai', 'Honda', 'Audi', 'Nissan', 'Toyota',\n",
              "       'Volkswagen', 'Tata', 'Land', 'Mitsubishi', 'Renault',\n",
              "       'Mercedes-Benz', 'BMW', 'Mahindra', 'Ford', 'Porsche', 'Datsun',\n",
              "       'Jaguar', 'Volvo', 'Chevrolet', 'Skoda', 'Mini', 'Fiat', 'Jeep',\n",
              "       'Smart', 'Ambassador', 'Isuzu', 'ISUZU', 'Force', 'Bentley',\n",
              "       'Lamborghini'], dtype=object)"
            ]
          },
          "metadata": {},
          "execution_count": 146
        }
      ]
    },
    {
      "cell_type": "code",
      "source": [
        "col=['ISUZU','Isuzu','Mini','Land']\n",
        "#correcting brand names\n",
        "dataset[dataset.Brand.isin(col)].sample(5)"
      ],
      "metadata": {
        "colab": {
          "base_uri": "https://localhost:8080/",
          "height": 556
        },
        "id": "BFqG4FQMmN8H",
        "outputId": "2975fa99-1592-4c29-83e9-f85afb23f316"
      },
      "execution_count": 147,
      "outputs": [
        {
          "output_type": "execute_result",
          "data": {
            "text/plain": [
              "      Unnamed: 0                                Name    Location  Year  \\\n",
              "3410        3410     Land Rover Freelander 2 HSE SD4   Ahmedabad  2012   \n",
              "410          410    Land Rover Range Rover 2.2L Pure  Coimbatore  2014   \n",
              "4687        4687      Land Rover Freelander 2 TD4 SE      Jaipur  2012   \n",
              "4247        4247          Land Rover Freelander 2 SE   Ahmedabad  2012   \n",
              "3043        3043  Land Rover Discovery Sport TD4 HSE  Coimbatore  2019   \n",
              "\n",
              "      Kilometers_Driven Fuel_Type Transmission Owner_Type     Mileage  \\\n",
              "3410              60000    Diesel    Automatic     Second  12.35 kmpl   \n",
              "410               95649    Diesel    Automatic      First   12.7 kmpl   \n",
              "4687             119203    Diesel    Automatic      First    0.0 kmpl   \n",
              "4247              75000    Diesel    Automatic     Second  12.39 kmpl   \n",
              "3043              25899    Diesel    Automatic      First  12.63 kmpl   \n",
              "\n",
              "       Engine       Power  Seats New_Price  Price  Ageofcar Brand  \\\n",
              "3410  2179 CC  187.74 bhp    5.0       NaN  23.50        11  Land   \n",
              "410   2179 CC   187.7 bhp    5.0       NaN  29.67         9  Land   \n",
              "4687  2179 CC     115 bhp    5.0       NaN  16.50        11  Land   \n",
              "4247  2179 CC  147.51 bhp    5.0       NaN  17.50        11  Land   \n",
              "3043  2179 CC   147.5 bhp    5.0       NaN  55.70         4  Land   \n",
              "\n",
              "                Model  \n",
              "3410  RoverFreelander  \n",
              "410        RoverRange  \n",
              "4687  RoverFreelander  \n",
              "4247  RoverFreelander  \n",
              "3043   RoverDiscovery  "
            ],
            "text/html": [
              "\n",
              "  <div id=\"df-0f7f5b58-7b7f-4a7a-911e-63d7adf14099\" class=\"colab-df-container\">\n",
              "    <div>\n",
              "<style scoped>\n",
              "    .dataframe tbody tr th:only-of-type {\n",
              "        vertical-align: middle;\n",
              "    }\n",
              "\n",
              "    .dataframe tbody tr th {\n",
              "        vertical-align: top;\n",
              "    }\n",
              "\n",
              "    .dataframe thead th {\n",
              "        text-align: right;\n",
              "    }\n",
              "</style>\n",
              "<table border=\"1\" class=\"dataframe\">\n",
              "  <thead>\n",
              "    <tr style=\"text-align: right;\">\n",
              "      <th></th>\n",
              "      <th>Unnamed: 0</th>\n",
              "      <th>Name</th>\n",
              "      <th>Location</th>\n",
              "      <th>Year</th>\n",
              "      <th>Kilometers_Driven</th>\n",
              "      <th>Fuel_Type</th>\n",
              "      <th>Transmission</th>\n",
              "      <th>Owner_Type</th>\n",
              "      <th>Mileage</th>\n",
              "      <th>Engine</th>\n",
              "      <th>Power</th>\n",
              "      <th>Seats</th>\n",
              "      <th>New_Price</th>\n",
              "      <th>Price</th>\n",
              "      <th>Ageofcar</th>\n",
              "      <th>Brand</th>\n",
              "      <th>Model</th>\n",
              "    </tr>\n",
              "  </thead>\n",
              "  <tbody>\n",
              "    <tr>\n",
              "      <th>3410</th>\n",
              "      <td>3410</td>\n",
              "      <td>Land Rover Freelander 2 HSE SD4</td>\n",
              "      <td>Ahmedabad</td>\n",
              "      <td>2012</td>\n",
              "      <td>60000</td>\n",
              "      <td>Diesel</td>\n",
              "      <td>Automatic</td>\n",
              "      <td>Second</td>\n",
              "      <td>12.35 kmpl</td>\n",
              "      <td>2179 CC</td>\n",
              "      <td>187.74 bhp</td>\n",
              "      <td>5.0</td>\n",
              "      <td>NaN</td>\n",
              "      <td>23.50</td>\n",
              "      <td>11</td>\n",
              "      <td>Land</td>\n",
              "      <td>RoverFreelander</td>\n",
              "    </tr>\n",
              "    <tr>\n",
              "      <th>410</th>\n",
              "      <td>410</td>\n",
              "      <td>Land Rover Range Rover 2.2L Pure</td>\n",
              "      <td>Coimbatore</td>\n",
              "      <td>2014</td>\n",
              "      <td>95649</td>\n",
              "      <td>Diesel</td>\n",
              "      <td>Automatic</td>\n",
              "      <td>First</td>\n",
              "      <td>12.7 kmpl</td>\n",
              "      <td>2179 CC</td>\n",
              "      <td>187.7 bhp</td>\n",
              "      <td>5.0</td>\n",
              "      <td>NaN</td>\n",
              "      <td>29.67</td>\n",
              "      <td>9</td>\n",
              "      <td>Land</td>\n",
              "      <td>RoverRange</td>\n",
              "    </tr>\n",
              "    <tr>\n",
              "      <th>4687</th>\n",
              "      <td>4687</td>\n",
              "      <td>Land Rover Freelander 2 TD4 SE</td>\n",
              "      <td>Jaipur</td>\n",
              "      <td>2012</td>\n",
              "      <td>119203</td>\n",
              "      <td>Diesel</td>\n",
              "      <td>Automatic</td>\n",
              "      <td>First</td>\n",
              "      <td>0.0 kmpl</td>\n",
              "      <td>2179 CC</td>\n",
              "      <td>115 bhp</td>\n",
              "      <td>5.0</td>\n",
              "      <td>NaN</td>\n",
              "      <td>16.50</td>\n",
              "      <td>11</td>\n",
              "      <td>Land</td>\n",
              "      <td>RoverFreelander</td>\n",
              "    </tr>\n",
              "    <tr>\n",
              "      <th>4247</th>\n",
              "      <td>4247</td>\n",
              "      <td>Land Rover Freelander 2 SE</td>\n",
              "      <td>Ahmedabad</td>\n",
              "      <td>2012</td>\n",
              "      <td>75000</td>\n",
              "      <td>Diesel</td>\n",
              "      <td>Automatic</td>\n",
              "      <td>Second</td>\n",
              "      <td>12.39 kmpl</td>\n",
              "      <td>2179 CC</td>\n",
              "      <td>147.51 bhp</td>\n",
              "      <td>5.0</td>\n",
              "      <td>NaN</td>\n",
              "      <td>17.50</td>\n",
              "      <td>11</td>\n",
              "      <td>Land</td>\n",
              "      <td>RoverFreelander</td>\n",
              "    </tr>\n",
              "    <tr>\n",
              "      <th>3043</th>\n",
              "      <td>3043</td>\n",
              "      <td>Land Rover Discovery Sport TD4 HSE</td>\n",
              "      <td>Coimbatore</td>\n",
              "      <td>2019</td>\n",
              "      <td>25899</td>\n",
              "      <td>Diesel</td>\n",
              "      <td>Automatic</td>\n",
              "      <td>First</td>\n",
              "      <td>12.63 kmpl</td>\n",
              "      <td>2179 CC</td>\n",
              "      <td>147.5 bhp</td>\n",
              "      <td>5.0</td>\n",
              "      <td>NaN</td>\n",
              "      <td>55.70</td>\n",
              "      <td>4</td>\n",
              "      <td>Land</td>\n",
              "      <td>RoverDiscovery</td>\n",
              "    </tr>\n",
              "  </tbody>\n",
              "</table>\n",
              "</div>\n",
              "    <div class=\"colab-df-buttons\">\n",
              "\n",
              "  <div class=\"colab-df-container\">\n",
              "    <button class=\"colab-df-convert\" onclick=\"convertToInteractive('df-0f7f5b58-7b7f-4a7a-911e-63d7adf14099')\"\n",
              "            title=\"Convert this dataframe to an interactive table.\"\n",
              "            style=\"display:none;\">\n",
              "\n",
              "  <svg xmlns=\"http://www.w3.org/2000/svg\" height=\"24px\" viewBox=\"0 -960 960 960\">\n",
              "    <path d=\"M120-120v-720h720v720H120Zm60-500h600v-160H180v160Zm220 220h160v-160H400v160Zm0 220h160v-160H400v160ZM180-400h160v-160H180v160Zm440 0h160v-160H620v160ZM180-180h160v-160H180v160Zm440 0h160v-160H620v160Z\"/>\n",
              "  </svg>\n",
              "    </button>\n",
              "\n",
              "  <style>\n",
              "    .colab-df-container {\n",
              "      display:flex;\n",
              "      gap: 12px;\n",
              "    }\n",
              "\n",
              "    .colab-df-convert {\n",
              "      background-color: #E8F0FE;\n",
              "      border: none;\n",
              "      border-radius: 50%;\n",
              "      cursor: pointer;\n",
              "      display: none;\n",
              "      fill: #1967D2;\n",
              "      height: 32px;\n",
              "      padding: 0 0 0 0;\n",
              "      width: 32px;\n",
              "    }\n",
              "\n",
              "    .colab-df-convert:hover {\n",
              "      background-color: #E2EBFA;\n",
              "      box-shadow: 0px 1px 2px rgba(60, 64, 67, 0.3), 0px 1px 3px 1px rgba(60, 64, 67, 0.15);\n",
              "      fill: #174EA6;\n",
              "    }\n",
              "\n",
              "    .colab-df-buttons div {\n",
              "      margin-bottom: 4px;\n",
              "    }\n",
              "\n",
              "    [theme=dark] .colab-df-convert {\n",
              "      background-color: #3B4455;\n",
              "      fill: #D2E3FC;\n",
              "    }\n",
              "\n",
              "    [theme=dark] .colab-df-convert:hover {\n",
              "      background-color: #434B5C;\n",
              "      box-shadow: 0px 1px 3px 1px rgba(0, 0, 0, 0.15);\n",
              "      filter: drop-shadow(0px 1px 2px rgba(0, 0, 0, 0.3));\n",
              "      fill: #FFFFFF;\n",
              "    }\n",
              "  </style>\n",
              "\n",
              "    <script>\n",
              "      const buttonEl =\n",
              "        document.querySelector('#df-0f7f5b58-7b7f-4a7a-911e-63d7adf14099 button.colab-df-convert');\n",
              "      buttonEl.style.display =\n",
              "        google.colab.kernel.accessAllowed ? 'block' : 'none';\n",
              "\n",
              "      async function convertToInteractive(key) {\n",
              "        const element = document.querySelector('#df-0f7f5b58-7b7f-4a7a-911e-63d7adf14099');\n",
              "        const dataTable =\n",
              "          await google.colab.kernel.invokeFunction('convertToInteractive',\n",
              "                                                    [key], {});\n",
              "        if (!dataTable) return;\n",
              "\n",
              "        const docLinkHtml = 'Like what you see? Visit the ' +\n",
              "          '<a target=\"_blank\" href=https://colab.research.google.com/notebooks/data_table.ipynb>data table notebook</a>'\n",
              "          + ' to learn more about interactive tables.';\n",
              "        element.innerHTML = '';\n",
              "        dataTable['output_type'] = 'display_data';\n",
              "        await google.colab.output.renderOutput(dataTable, element);\n",
              "        const docLink = document.createElement('div');\n",
              "        docLink.innerHTML = docLinkHtml;\n",
              "        element.appendChild(docLink);\n",
              "      }\n",
              "    </script>\n",
              "  </div>\n",
              "\n",
              "\n",
              "<div id=\"df-fe6a6fd7-3141-4d98-8361-e42fad4ed778\">\n",
              "  <button class=\"colab-df-quickchart\" onclick=\"quickchart('df-fe6a6fd7-3141-4d98-8361-e42fad4ed778')\"\n",
              "            title=\"Suggest charts.\"\n",
              "            style=\"display:none;\">\n",
              "\n",
              "<svg xmlns=\"http://www.w3.org/2000/svg\" height=\"24px\"viewBox=\"0 0 24 24\"\n",
              "     width=\"24px\">\n",
              "    <g>\n",
              "        <path d=\"M19 3H5c-1.1 0-2 .9-2 2v14c0 1.1.9 2 2 2h14c1.1 0 2-.9 2-2V5c0-1.1-.9-2-2-2zM9 17H7v-7h2v7zm4 0h-2V7h2v10zm4 0h-2v-4h2v4z\"/>\n",
              "    </g>\n",
              "</svg>\n",
              "  </button>\n",
              "\n",
              "<style>\n",
              "  .colab-df-quickchart {\n",
              "      --bg-color: #E8F0FE;\n",
              "      --fill-color: #1967D2;\n",
              "      --hover-bg-color: #E2EBFA;\n",
              "      --hover-fill-color: #174EA6;\n",
              "      --disabled-fill-color: #AAA;\n",
              "      --disabled-bg-color: #DDD;\n",
              "  }\n",
              "\n",
              "  [theme=dark] .colab-df-quickchart {\n",
              "      --bg-color: #3B4455;\n",
              "      --fill-color: #D2E3FC;\n",
              "      --hover-bg-color: #434B5C;\n",
              "      --hover-fill-color: #FFFFFF;\n",
              "      --disabled-bg-color: #3B4455;\n",
              "      --disabled-fill-color: #666;\n",
              "  }\n",
              "\n",
              "  .colab-df-quickchart {\n",
              "    background-color: var(--bg-color);\n",
              "    border: none;\n",
              "    border-radius: 50%;\n",
              "    cursor: pointer;\n",
              "    display: none;\n",
              "    fill: var(--fill-color);\n",
              "    height: 32px;\n",
              "    padding: 0;\n",
              "    width: 32px;\n",
              "  }\n",
              "\n",
              "  .colab-df-quickchart:hover {\n",
              "    background-color: var(--hover-bg-color);\n",
              "    box-shadow: 0 1px 2px rgba(60, 64, 67, 0.3), 0 1px 3px 1px rgba(60, 64, 67, 0.15);\n",
              "    fill: var(--button-hover-fill-color);\n",
              "  }\n",
              "\n",
              "  .colab-df-quickchart-complete:disabled,\n",
              "  .colab-df-quickchart-complete:disabled:hover {\n",
              "    background-color: var(--disabled-bg-color);\n",
              "    fill: var(--disabled-fill-color);\n",
              "    box-shadow: none;\n",
              "  }\n",
              "\n",
              "  .colab-df-spinner {\n",
              "    border: 2px solid var(--fill-color);\n",
              "    border-color: transparent;\n",
              "    border-bottom-color: var(--fill-color);\n",
              "    animation:\n",
              "      spin 1s steps(1) infinite;\n",
              "  }\n",
              "\n",
              "  @keyframes spin {\n",
              "    0% {\n",
              "      border-color: transparent;\n",
              "      border-bottom-color: var(--fill-color);\n",
              "      border-left-color: var(--fill-color);\n",
              "    }\n",
              "    20% {\n",
              "      border-color: transparent;\n",
              "      border-left-color: var(--fill-color);\n",
              "      border-top-color: var(--fill-color);\n",
              "    }\n",
              "    30% {\n",
              "      border-color: transparent;\n",
              "      border-left-color: var(--fill-color);\n",
              "      border-top-color: var(--fill-color);\n",
              "      border-right-color: var(--fill-color);\n",
              "    }\n",
              "    40% {\n",
              "      border-color: transparent;\n",
              "      border-right-color: var(--fill-color);\n",
              "      border-top-color: var(--fill-color);\n",
              "    }\n",
              "    60% {\n",
              "      border-color: transparent;\n",
              "      border-right-color: var(--fill-color);\n",
              "    }\n",
              "    80% {\n",
              "      border-color: transparent;\n",
              "      border-right-color: var(--fill-color);\n",
              "      border-bottom-color: var(--fill-color);\n",
              "    }\n",
              "    90% {\n",
              "      border-color: transparent;\n",
              "      border-bottom-color: var(--fill-color);\n",
              "    }\n",
              "  }\n",
              "</style>\n",
              "\n",
              "  <script>\n",
              "    async function quickchart(key) {\n",
              "      const quickchartButtonEl =\n",
              "        document.querySelector('#' + key + ' button');\n",
              "      quickchartButtonEl.disabled = true;  // To prevent multiple clicks.\n",
              "      quickchartButtonEl.classList.add('colab-df-spinner');\n",
              "      try {\n",
              "        const charts = await google.colab.kernel.invokeFunction(\n",
              "            'suggestCharts', [key], {});\n",
              "      } catch (error) {\n",
              "        console.error('Error during call to suggestCharts:', error);\n",
              "      }\n",
              "      quickchartButtonEl.classList.remove('colab-df-spinner');\n",
              "      quickchartButtonEl.classList.add('colab-df-quickchart-complete');\n",
              "    }\n",
              "    (() => {\n",
              "      let quickchartButtonEl =\n",
              "        document.querySelector('#df-fe6a6fd7-3141-4d98-8361-e42fad4ed778 button');\n",
              "      quickchartButtonEl.style.display =\n",
              "        google.colab.kernel.accessAllowed ? 'block' : 'none';\n",
              "    })();\n",
              "  </script>\n",
              "</div>\n",
              "    </div>\n",
              "  </div>\n"
            ]
          },
          "metadata": {},
          "execution_count": 147
        }
      ]
    },
    {
      "cell_type": "markdown",
      "source": [
        "Brand names like ISUZU and Isuzu are same and needs to be corrected. Land, Mini seems to be incorrect. So correcting brand names."
      ],
      "metadata": {
        "id": "vF6Kq35SmT2g"
      }
    },
    {
      "cell_type": "code",
      "source": [
        "dataset.info()"
      ],
      "metadata": {
        "colab": {
          "base_uri": "https://localhost:8080/"
        },
        "id": "7GbqmtmrmUgW",
        "outputId": "617ac1cc-f616-4212-8ca8-1604e7734e72"
      },
      "execution_count": 148,
      "outputs": [
        {
          "output_type": "stream",
          "name": "stdout",
          "text": [
            "<class 'pandas.core.frame.DataFrame'>\n",
            "RangeIndex: 6019 entries, 0 to 6018\n",
            "Data columns (total 17 columns):\n",
            " #   Column             Non-Null Count  Dtype   \n",
            "---  ------             --------------  -----   \n",
            " 0   Unnamed: 0         6019 non-null   int64   \n",
            " 1   Name               6019 non-null   object  \n",
            " 2   Location           6019 non-null   object  \n",
            " 3   Year               6019 non-null   int64   \n",
            " 4   Kilometers_Driven  6019 non-null   int64   \n",
            " 5   Fuel_Type          6019 non-null   category\n",
            " 6   Transmission       6019 non-null   category\n",
            " 7   Owner_Type         6019 non-null   category\n",
            " 8   Mileage            6017 non-null   object  \n",
            " 9   Engine             5983 non-null   object  \n",
            " 10  Power              5983 non-null   object  \n",
            " 11  Seats              5977 non-null   float64 \n",
            " 12  New_Price          824 non-null    object  \n",
            " 13  Price              6019 non-null   float64 \n",
            " 14  Ageofcar           6019 non-null   int64   \n",
            " 15  Brand              6019 non-null   object  \n",
            " 16  Model              6019 non-null   object  \n",
            "dtypes: category(3), float64(2), int64(4), object(8)\n",
            "memory usage: 676.6+ KB\n"
          ]
        }
      ]
    },
    {
      "cell_type": "code",
      "source": [
        "#changing brandnames\n",
        "dataset.loc[dataset.Brand == 'ISUZU','Brand']='Isuzu'\n",
        "dataset.loc[dataset.Brand=='Mini','Brand']='Mini Cooper'\n",
        "dataset.loc[dataset.Brand=='Land','Brand']='Land Rover'\n",
        "#dataset['Brand']=dataset[\"Brand\"].astype(\"category\")"
      ],
      "metadata": {
        "id": "RW5XI2swmbO2"
      },
      "execution_count": 149,
      "outputs": []
    },
    {
      "cell_type": "code",
      "source": [
        "dataset.Brand.nunique()"
      ],
      "metadata": {
        "colab": {
          "base_uri": "https://localhost:8080/"
        },
        "id": "TwU3T_L3mda3",
        "outputId": "07f2ad2d-eb6b-40fb-f660-193001a0d23b"
      },
      "execution_count": 150,
      "outputs": [
        {
          "output_type": "execute_result",
          "data": {
            "text/plain": [
              "30"
            ]
          },
          "metadata": {},
          "execution_count": 150
        }
      ]
    },
    {
      "cell_type": "code",
      "source": [
        "dataset.groupby(dataset.Brand).size().sort_values(ascending =False)"
      ],
      "metadata": {
        "colab": {
          "base_uri": "https://localhost:8080/"
        },
        "id": "y-bsJLN-mi0u",
        "outputId": "8211f56b-58d9-49aa-f996-a6d865e96c14"
      },
      "execution_count": 151,
      "outputs": [
        {
          "output_type": "execute_result",
          "data": {
            "text/plain": [
              "Brand\n",
              "Maruti           1211\n",
              "Hyundai          1107\n",
              "Honda             608\n",
              "Toyota            411\n",
              "Mercedes-Benz     318\n",
              "Volkswagen        315\n",
              "Ford              300\n",
              "Mahindra          272\n",
              "BMW               267\n",
              "Audi              236\n",
              "Tata              186\n",
              "Skoda             173\n",
              "Renault           145\n",
              "Chevrolet         121\n",
              "Nissan             91\n",
              "Land Rover         60\n",
              "Jaguar             40\n",
              "Fiat               28\n",
              "Mitsubishi         27\n",
              "Mini Cooper        26\n",
              "Volvo              21\n",
              "Porsche            18\n",
              "Jeep               15\n",
              "Datsun             13\n",
              "Isuzu               3\n",
              "Force               3\n",
              "Lamborghini         1\n",
              "Smart               1\n",
              "Bentley             1\n",
              "Ambassador          1\n",
              "dtype: int64"
            ]
          },
          "metadata": {},
          "execution_count": 151
        }
      ]
    },
    {
      "cell_type": "markdown",
      "source": [
        "There are 30 unique Brands in the dataset.Maruti brand is most available for purchase/Sold followed by Hyundai."
      ],
      "metadata": {
        "id": "nO9Vbtc0mnu9"
      }
    },
    {
      "cell_type": "code",
      "source": [
        "dataset.Model.isnull().sum()"
      ],
      "metadata": {
        "colab": {
          "base_uri": "https://localhost:8080/"
        },
        "id": "ON9UFwmOmp1h",
        "outputId": "b6861045-ecc2-468c-916b-580fc27ac1cf"
      },
      "execution_count": 152,
      "outputs": [
        {
          "output_type": "execute_result",
          "data": {
            "text/plain": [
              "0"
            ]
          },
          "metadata": {},
          "execution_count": 152
        }
      ]
    },
    {
      "cell_type": "code",
      "source": [
        "dataset.Model.nunique()"
      ],
      "metadata": {
        "colab": {
          "base_uri": "https://localhost:8080/"
        },
        "id": "lN5muoHjmvhm",
        "outputId": "f1f4744a-d10e-4119-92d2-a72590eb31f1"
      },
      "execution_count": 153,
      "outputs": [
        {
          "output_type": "execute_result",
          "data": {
            "text/plain": [
              "689"
            ]
          },
          "metadata": {},
          "execution_count": 153
        }
      ]
    },
    {
      "cell_type": "code",
      "source": [
        "dataset.groupby('Model')['Model'].size().nlargest(30)"
      ],
      "metadata": {
        "colab": {
          "base_uri": "https://localhost:8080/"
        },
        "id": "f5R6NjS3mzcq",
        "outputId": "e2351e83-229c-40e8-8749-e3e7b55b720f"
      },
      "execution_count": 154,
      "outputs": [
        {
          "output_type": "execute_result",
          "data": {
            "text/plain": [
              "Model\n",
              "WagonR          154\n",
              "Grandi10        152\n",
              "SwiftDzire      152\n",
              "Innova2.5       114\n",
              "Verna1.6        110\n",
              "Cityi           100\n",
              "City1.5          99\n",
              "3Series          98\n",
              "NewC-Class       94\n",
              "Creta1.6         87\n",
              "SwiftVDI         83\n",
              "5Series          68\n",
              "i10Sportz        65\n",
              "XUV500W8         64\n",
              "i201.2           64\n",
              "SantroXing       62\n",
              "AmazeS           58\n",
              "i10Magna         57\n",
              "FigoDiesel       54\n",
              "Alto800          52\n",
              "CorollaAltis     52\n",
              "A42.0            48\n",
              "Ecosport1.5      48\n",
              "i20Asta          47\n",
              "i20Sportz        47\n",
              "InnovaCrysta     46\n",
              "AltoK10          45\n",
              "Duster110PS      45\n",
              "Fortuner4x2      43\n",
              "VitaraBrezza     43\n",
              "Name: Model, dtype: int64"
            ]
          },
          "metadata": {},
          "execution_count": 154
        }
      ]
    },
    {
      "cell_type": "markdown",
      "source": [
        "There are 689 unique models and Wagon R is most popular Model."
      ],
      "metadata": {
        "id": "zIVXwUXVm6PG"
      }
    },
    {
      "cell_type": "markdown",
      "metadata": {
        "id": "iuefQoizY127"
      },
      "source": [
        "## Exploratory Data Analysis\n",
        "\n",
        "Let's explore the various columns and draw information about how useful each column is. I'll also modify the test data based on training data."
      ]
    },
    {
      "cell_type": "markdown",
      "metadata": {
        "id": "HSXTyZgWY128"
      },
      "source": [
        "### Index\n",
        "\n",
        "The first column is the index for each data point and hence we can simply remove it."
      ]
    },
    {
      "cell_type": "code",
      "execution_count": 155,
      "metadata": {
        "id": "no-vD0etY129"
      },
      "outputs": [],
      "source": [
        "X_train = X_train.iloc[:, 1:]\n",
        "X_test = X_test.iloc[:, 1:]"
      ]
    },
    {
      "cell_type": "markdown",
      "metadata": {
        "id": "8DP2gb5dY12-"
      },
      "source": [
        "### Name\n",
        "\n",
        "Let's explore the various cars in the dataset."
      ]
    },
    {
      "cell_type": "code",
      "execution_count": 156,
      "metadata": {
        "colab": {
          "base_uri": "https://localhost:8080/"
        },
        "id": "eHvE3G7fY12-",
        "outputId": "f7fd0d8b-f394-42fb-c2db-e8e2bb6c64a7"
      },
      "outputs": [
        {
          "output_type": "execute_result",
          "data": {
            "text/plain": [
              "Mahindra XUV500 W8 2WD                35\n",
              "Maruti Swift VDI                      31\n",
              "Maruti Ritz VDi                       26\n",
              "Hyundai i10 Sportz                    25\n",
              "Maruti Swift Dzire VDI                24\n",
              "                                      ..\n",
              "Skoda Laura L and K AT                 1\n",
              "Honda Amaze S Diesel                   1\n",
              "Nissan Micra XE                        1\n",
              "Renault KWID Climber 1.0 MT            1\n",
              "Ford Endeavour 2.2 Titanium AT 4X2     1\n",
              "Name: Name, Length: 1592, dtype: int64"
            ]
          },
          "metadata": {},
          "execution_count": 156
        }
      ],
      "source": [
        "X_train[\"Name\"].value_counts()"
      ]
    },
    {
      "cell_type": "markdown",
      "metadata": {
        "id": "QrT4kl85Y12_"
      },
      "source": [
        "As it appears, there are several cars in the dataset, some of them with a count higher than 1.\n",
        "Sometimes the resale value of a car also depends on manufacturer of car and hence, I'll extract the manufacturer from this column and add it to the dataset."
      ]
    },
    {
      "cell_type": "code",
      "execution_count": 157,
      "metadata": {
        "id": "mH5VPn9kY12_"
      },
      "outputs": [],
      "source": [
        "make_train = X_train[\"Name\"].str.split(\" \", expand = True)\n",
        "make_test = X_test[\"Name\"].str.split(\" \", expand = True)"
      ]
    },
    {
      "cell_type": "code",
      "execution_count": 158,
      "metadata": {
        "id": "ayp_JgqSY13A"
      },
      "outputs": [],
      "source": [
        "X_train[\"Manufacturer\"] = make_train[0]\n",
        "X_test[\"Manufacturer\"] = make_test[0]"
      ]
    },
    {
      "cell_type": "markdown",
      "metadata": {
        "id": "4ljFMiPzY13A"
      },
      "source": [
        "Let's also confirm that there are no null values and identify all unique values."
      ]
    },
    {
      "cell_type": "code",
      "execution_count": 159,
      "metadata": {
        "colab": {
          "base_uri": "https://localhost:8080/",
          "height": 826
        },
        "id": "KheKDrCqY13B",
        "outputId": "e42e82e1-7972-4fe3-924f-d48144ec3848"
      },
      "outputs": [
        {
          "output_type": "execute_result",
          "data": {
            "text/plain": [
              "Text(0, 0.5, 'Count of cars')"
            ]
          },
          "metadata": {},
          "execution_count": 159
        },
        {
          "output_type": "display_data",
          "data": {
            "text/plain": [
              "<Figure size 1200x800 with 1 Axes>"
            ],
            "image/png": "[encoded data removed]"
          },
          "metadata": {}
        }
      ],
      "source": [
        "plt.figure(figsize = (12, 8))\n",
        "plot = sns.countplot(x = 'Manufacturer', data = X_train)\n",
        "plt.xticks(rotation = 90)\n",
        "for p in plot.patches:\n",
        "    plot.annotate(p.get_height(),\n",
        "                        (p.get_x() + p.get_width() / 2.0,\n",
        "                         p.get_height()),\n",
        "                        ha = 'center',\n",
        "                        va = 'center',\n",
        "                        xytext = (0, 5),\n",
        "                        textcoords = 'offset points')\n",
        "\n",
        "plt.title(\"Count of cars based on manufacturers\")\n",
        "plt.xlabel(\"Manufacturer\")\n",
        "plt.ylabel(\"Count of cars\")"
      ]
    },
    {
      "cell_type": "markdown",
      "metadata": {
        "id": "r0D4NCGZY13C"
      },
      "source": [
        "Maximum cars in the dataset are by the manufacturer **Maruti** and there are no null values.\n",
        "\n",
        "I'll also drop the `Name` column."
      ]
    },
    {
      "cell_type": "code",
      "execution_count": 160,
      "metadata": {
        "id": "Zq9xXLSdY13D"
      },
      "outputs": [],
      "source": [
        "X_train.drop(\"Name\", axis = 1, inplace = True)\n",
        "X_test.drop(\"Name\", axis = 1, inplace = True)"
      ]
    },
    {
      "cell_type": "markdown",
      "metadata": {
        "id": "IeejLRxeY13E"
      },
      "source": [
        "### Location\n",
        "\n",
        "Location should not be a determinant for the price of a car and I'll safely remove it."
      ]
    },
    {
      "cell_type": "code",
      "execution_count": 161,
      "metadata": {
        "id": "MuFE2KqHY13F"
      },
      "outputs": [],
      "source": [
        "X_train.drop(\"Location\", axis = 1, inplace = True)\n",
        "X_test.drop(\"Location\", axis = 1, inplace = True)"
      ]
    },
    {
      "cell_type": "markdown",
      "metadata": {
        "id": "wBBXfa0LY13F"
      },
      "source": [
        "### Year\n",
        "\n",
        "Year has no significance on its own unless we try to extract how old a car is from this and see how its resale price may get affected."
      ]
    },
    {
      "cell_type": "code",
      "execution_count": 162,
      "metadata": {
        "id": "_JaXe0hOY13G"
      },
      "outputs": [],
      "source": [
        "curr_time = datetime.datetime.now()\n",
        "X_train['Year'] = X_train['Year'].apply(lambda x : curr_time.year - x)\n",
        "X_test['Year'] = X_test['Year'].apply(lambda x : curr_time.year - x)"
      ]
    },
    {
      "cell_type": "markdown",
      "metadata": {
        "id": "jB-Oni5MY13G"
      },
      "source": [
        "### Fuel_Type, Transmission,  and Owner_Type\n",
        "\n",
        "All these columns are categorical columns which should be converted to dummy variables before being used."
      ]
    },
    {
      "cell_type": "markdown",
      "metadata": {
        "id": "ymmBLf0DY13H"
      },
      "source": [
        "### Kilometers_Driven\n",
        "\n",
        "`Kilometers_Driven` is a numerical column with a certain range of values."
      ]
    },
    {
      "cell_type": "code",
      "execution_count": 163,
      "metadata": {
        "colab": {
          "base_uri": "https://localhost:8080/"
        },
        "id": "Wz16KT32Y13H",
        "outputId": "5ba59bc6-1758-4df4-b5a3-1e8fdee53fcb"
      },
      "outputs": [
        {
          "output_type": "execute_result",
          "data": {
            "text/plain": [
              "4201     77000\n",
              "4383     19947\n",
              "1779     70963\n",
              "4020    115195\n",
              "3248     58752\n",
              "         ...  \n",
              "3772     27000\n",
              "5191      9000\n",
              "5226    140000\n",
              "5390     76414\n",
              "860      98000\n",
              "Name: Kilometers_Driven, Length: 4213, dtype: int64"
            ]
          },
          "metadata": {},
          "execution_count": 163
        }
      ],
      "source": [
        "X_train[\"Kilometers_Driven\"]"
      ]
    },
    {
      "cell_type": "markdown",
      "metadata": {
        "id": "ujGjaYWNY13I"
      },
      "source": [
        "The data range is really varied and the high values might affect prediction, thus, it is really important that scaling be applied to this column for sure."
      ]
    },
    {
      "cell_type": "markdown",
      "metadata": {
        "id": "1m3L2WIMY13I"
      },
      "source": [
        "## Mileage\n",
        "\n",
        "This column defines the mileage of the car. We need to extract the numerical value out of each string and save it."
      ]
    },
    {
      "cell_type": "code",
      "execution_count": 164,
      "metadata": {
        "id": "cP2f9m_4Y13J"
      },
      "outputs": [],
      "source": [
        "mileage_train = X_train[\"Mileage\"].str.split(\" \", expand = True)\n",
        "mileage_test = X_test[\"Mileage\"].str.split(\" \", expand = True)\n",
        "\n",
        "X_train[\"Mileage\"] = pd.to_numeric(mileage_train[0], errors = 'coerce')\n",
        "X_test[\"Mileage\"] = pd.to_numeric(mileage_test[0], errors = 'coerce')"
      ]
    },
    {
      "cell_type": "markdown",
      "metadata": {
        "id": "ZvQDWvTqY13J"
      },
      "source": [
        "Let's check for missing values."
      ]
    },
    {
      "cell_type": "code",
      "execution_count": 165,
      "metadata": {
        "colab": {
          "base_uri": "https://localhost:8080/"
        },
        "id": "9RM5u9TIY13K",
        "outputId": "d1b694f8-a8e5-4395-b1e5-335952d646fb"
      },
      "outputs": [
        {
          "output_type": "stream",
          "name": "stdout",
          "text": [
            "1\n",
            "1\n"
          ]
        }
      ],
      "source": [
        "print(sum(X_train[\"Mileage\"].isnull()))\n",
        "print(sum(X_test[\"Mileage\"].isnull()))"
      ]
    },
    {
      "cell_type": "markdown",
      "metadata": {
        "id": "SO5TPHpKY13K"
      },
      "source": [
        "There is one missing value in each. I'll replace the missing value with the mean value of the column based on the training data."
      ]
    },
    {
      "cell_type": "code",
      "execution_count": 166,
      "metadata": {
        "id": "kz995Mi_Y13L"
      },
      "outputs": [],
      "source": [
        "X_train[\"Mileage\"].fillna(X_train[\"Mileage\"].astype(\"float64\").mean(), inplace = True)\n",
        "X_test[\"Mileage\"].fillna(X_train[\"Mileage\"].astype(\"float64\").mean(), inplace = True)"
      ]
    },
    {
      "cell_type": "markdown",
      "metadata": {
        "id": "ojWNlC10Y13L"
      },
      "source": [
        "### Engine, Power and Seats\n",
        "\n",
        "The `Engine` values are defined in CC so I need to remove `CC` from the data. Similarly, `Power` has bhp, so I'll remove `bhp` from it. Also, as there are missing values in `Engine`, `Power` and `Seats`, I'll again replace them with the mean."
      ]
    },
    {
      "cell_type": "code",
      "execution_count": 167,
      "metadata": {
        "id": "itmrZL1iY13M"
      },
      "outputs": [],
      "source": [
        "cc_train = X_train[\"Engine\"].str.split(\" \", expand = True)\n",
        "cc_test = X_test[\"Engine\"].str.split(\" \", expand = True)\n",
        "X_train[\"Engine\"] = pd.to_numeric(cc_train[0], errors = 'coerce')\n",
        "X_test[\"Engine\"] = pd.to_numeric(cc_test[0], errors = 'coerce')\n",
        "\n",
        "bhp_train = X_train[\"Power\"].str.split(\" \", expand = True)\n",
        "bhp_test = X_test[\"Power\"].str.split(\" \", expand = True)\n",
        "X_train[\"Power\"] = pd.to_numeric(bhp_train[0], errors = 'coerce')\n",
        "X_test[\"Power\"] = pd.to_numeric(bhp_test[0], errors = 'coerce')"
      ]
    },
    {
      "cell_type": "code",
      "execution_count": 168,
      "metadata": {
        "id": "WE0m8dm3Y13M"
      },
      "outputs": [],
      "source": [
        "X_train[\"Engine\"].fillna(X_train[\"Engine\"].astype(\"float64\").mean(), inplace = True)\n",
        "X_test[\"Engine\"].fillna(X_train[\"Engine\"].astype(\"float64\").mean(), inplace = True)\n",
        "\n",
        "X_train[\"Power\"].fillna(X_train[\"Power\"].astype(\"float64\").mean(), inplace = True)\n",
        "X_test[\"Power\"].fillna(X_train[\"Power\"].astype(\"float64\").mean(), inplace = True)\n",
        "\n",
        "X_train[\"Seats\"].fillna(X_train[\"Seats\"].astype(\"float64\").mean(), inplace = True)\n",
        "X_test[\"Seats\"].fillna(X_train[\"Seats\"].astype(\"float64\").mean(), inplace = True)"
      ]
    },
    {
      "cell_type": "markdown",
      "metadata": {
        "id": "eLaGoINXY13N"
      },
      "source": [
        "### New Price\n",
        "\n",
        "As most of the values are missing, I'll drop this column altogether."
      ]
    },
    {
      "cell_type": "code",
      "execution_count": 169,
      "metadata": {
        "id": "XgPQ92svY13N"
      },
      "outputs": [],
      "source": [
        "X_train.drop([\"New_Price\"], axis = 1, inplace = True)\n",
        "X_test.drop([\"New_Price\"], axis = 1, inplace = True)"
      ]
    },
    {
      "cell_type": "markdown",
      "metadata": {
        "id": "7DW-fti7Y13O"
      },
      "source": [
        "## Data Processing\n",
        "\n",
        "Now that we have worked with the training data, let's create dummy columns for categorical columns before we begin training."
      ]
    },
    {
      "cell_type": "code",
      "execution_count": 170,
      "metadata": {
        "id": "uhIzJdgUY13P"
      },
      "outputs": [],
      "source": [
        "X_train = pd.get_dummies(X_train,\n",
        "                         columns = [\"Manufacturer\", \"Fuel_Type\", \"Transmission\", \"Owner_Type\"],\n",
        "                         drop_first = True)"
      ]
    },
    {
      "cell_type": "code",
      "execution_count": 171,
      "metadata": {
        "id": "JCCWGwOaY13P"
      },
      "outputs": [],
      "source": [
        "X_test = pd.get_dummies(X_test,\n",
        "                         columns = [\"Manufacturer\", \"Fuel_Type\", \"Transmission\", \"Owner_Type\"],\n",
        "                         drop_first = True)"
      ]
    },
    {
      "cell_type": "markdown",
      "metadata": {
        "id": "KUfMewARY13Q"
      },
      "source": [
        "It might be possible that the dummy column creation would be different in test and train data, thus, I'd fill in all missing columns with zeros."
      ]
    },
    {
      "cell_type": "code",
      "execution_count": 172,
      "metadata": {
        "id": "HDaHVjM8Y13Q"
      },
      "outputs": [],
      "source": [
        "missing_cols = set(X_train.columns) - set(X_test.columns)\n",
        "for col in missing_cols:\n",
        "    X_test[col] = 0\n",
        "X_test = X_test[X_train.columns]"
      ]
    },
    {
      "cell_type": "markdown",
      "metadata": {
        "id": "jZCj9c5nY13R"
      },
      "source": [
        "Finally, as the last step of data processing, I'll scale the data."
      ]
    },
    {
      "cell_type": "code",
      "execution_count": 173,
      "metadata": {
        "id": "s0LZBzD_Y13R"
      },
      "outputs": [],
      "source": [
        "standardScaler = StandardScaler()\n",
        "standardScaler.fit(X_train)\n",
        "X_train = standardScaler.transform(X_train)\n",
        "X_test = standardScaler.transform(X_test)"
      ]
    },
    {
      "cell_type": "markdown",
      "metadata": {
        "id": "_plfnyFZY13S"
      },
      "source": [
        "## Training and predicting\n",
        "\n",
        "I'll create a **Linear Regression** model and a **Random Forest** model to train on the data and use it for future predictions."
      ]
    },
    {
      "cell_type": "markdown",
      "source": [
        "**1st Model;**"
      ],
      "metadata": {
        "id": "A0cBt4RGg62A"
      }
    },
    {
      "cell_type": "code",
      "execution_count": 174,
      "metadata": {
        "colab": {
          "base_uri": "https://localhost:8080/"
        },
        "id": "hAI-C53fY13T",
        "outputId": "7803d54e-932b-477d-bd38-5e0191a301c6"
      },
      "outputs": [
        {
          "output_type": "execute_result",
          "data": {
            "text/plain": [
              "0.7008908549416727"
            ]
          },
          "metadata": {},
          "execution_count": 174
        }
      ],
      "source": [
        "linearRegression = LinearRegression()\n",
        "linearRegression.fit(X_train, y_train)\n",
        "y_pred = linearRegression.predict(X_test)\n",
        "r2_score(y_test, y_pred)"
      ]
    },
    {
      "cell_type": "markdown",
      "source": [
        "**2nd Model**"
      ],
      "metadata": {
        "id": "z_-5aw_Ng-HL"
      }
    },
    {
      "cell_type": "code",
      "execution_count": 175,
      "metadata": {
        "colab": {
          "base_uri": "https://localhost:8080/"
        },
        "id": "AcR_Glo5Y13U",
        "outputId": "509ac6f4-1e8b-4251-cc3f-c6faa22a8d1f"
      },
      "outputs": [
        {
          "output_type": "execute_result",
          "data": {
            "text/plain": [
              "0.8858723732344661"
            ]
          },
          "metadata": {},
          "execution_count": 175
        }
      ],
      "source": [
        "rf = RandomForestRegressor(n_estimators = 100)\n",
        "rf.fit(X_train, y_train)\n",
        "y_pred = rf.predict(X_test)\n",
        "r2_score(y_test, y_pred)"
      ]
    },
    {
      "cell_type": "markdown",
      "metadata": {
        "id": "gKazyHSCY13U"
      },
      "source": [
        "The **Random Forest** model performed the best with a R2 score of **0.88**."
      ]
    },
    {
      "cell_type": "markdown",
      "source": [
        "**Insights/Suggestions**"
      ],
      "metadata": {
        "id": "bZqv4iiBhDdg"
      }
    },
    {
      "cell_type": "markdown",
      "source": [
        "**Observations**\n",
        "\n",
        "\n",
        "*   Expensive cars are in Coimbatore and Banglore.\n",
        "*   2 Seater cars are more expensive.\n",
        "*   Deisel Fuel type car are more expensive compared to other fuel type.\n",
        "*   As expected, Older model are sold cheaper compared to latest model\n",
        "*   Automatic transmission vehicle have a higher price than manual transmission vehicles.\n",
        "*   Vehicles with more engine capacity have higher prices.\n",
        "*   Price decreases as number of owner increases.\n",
        "*   Automatic transmission require high engine and power.\n",
        "*   Prices for Cars with fuel type as Deisel has increased with recent models\n",
        "*   Engine,Power, how old the car his, Mileage,Fuel type,location,Transmission effect the price."
      ],
      "metadata": {
        "id": "Qv1nCR92hJmf"
      }
    },
    {
      "cell_type": "code",
      "source": [
        "# check distrubution if skewed. If distrubution is skewed , it is advice to use log transform\n",
        "cols_to_log = dataset.select_dtypes(include=np.number).columns.tolist()\n",
        "for colname in cols_to_log:\n",
        "    sns.displot(dataset[colname], kde=True)\n",
        "    plt.show()"
      ],
      "metadata": {
        "colab": {
          "base_uri": "https://localhost:8080/",
          "height": 1000
        },
        "id": "aifNncGvjUaO",
        "outputId": "9318c0fc-f0c2-48b3-bb73-75b28b3d9aed"
      },
      "execution_count": 176,
      "outputs": [
        {
          "output_type": "display_data",
          "data": {
            "text/plain": [
              "<Figure size 500x500 with 1 Axes>"
            ],
            "image/png": "[encoded data removed]"
          },
          "metadata": {}
        },
        {
          "output_type": "display_data",
          "data": {
            "text/plain": [
              "<Figure size 500x500 with 1 Axes>"
            ],
            "image/png": "[encoded data removed]"
          },
          "metadata": {}
        },
        {
          "output_type": "display_data",
          "data": {
            "text/plain": [
              "<Figure size 500x500 with 1 Axes>"
            ],
            "image/png": "[encoded data removed]"
          },
          "metadata": {}
        },
        {
          "output_type": "display_data",
          "data": {
            "text/plain": [
              "<Figure size 500x500 with 1 Axes>"
            ],
            "image/png": "[encoded data removed]"
          },
          "metadata": {}
        },
        {
          "output_type": "display_data",
          "data": {
            "text/plain": [
              "<Figure size 500x500 with 1 Axes>"
            ],
            "image/png": "[encoded data removed]"
          },
          "metadata": {}
        },
        {
          "output_type": "display_data",
          "data": {
            "text/plain": [
              "<Figure size 500x500 with 1 Axes>"
            ],
            "image/png": "[encoded data removed]"
          },
          "metadata": {}
        }
      ]
    },
    {
      "cell_type": "code",
      "source": [
        "def Perform_log_transform(dataset,col_log):\n",
        "    \"\"\"#Perform Log Transformation of dataframe , and list of columns \"\"\"\n",
        "    for colname in col_log:\n",
        "        dataset[colname + '_log'] = np.log(dataset[colname])\n",
        "    #df.drop(col_log, axis=1, inplace=True)\n",
        "    dataset.info()"
      ],
      "metadata": {
        "id": "it2KHvwRj5ks"
      },
      "execution_count": 177,
      "outputs": []
    },
    {
      "cell_type": "code",
      "source": [
        "#This needs to be done before the data is split\n",
        "Perform_log_transform(dataset,['Kilometers_Driven','Price'])"
      ],
      "metadata": {
        "colab": {
          "base_uri": "https://localhost:8080/"
        },
        "id": "cirhZYE2kDsF",
        "outputId": "31eb0f42-69f1-4e11-85b9-86b73d5155ec"
      },
      "execution_count": 178,
      "outputs": [
        {
          "output_type": "stream",
          "name": "stdout",
          "text": [
            "<class 'pandas.core.frame.DataFrame'>\n",
            "RangeIndex: 6019 entries, 0 to 6018\n",
            "Data columns (total 19 columns):\n",
            " #   Column                 Non-Null Count  Dtype   \n",
            "---  ------                 --------------  -----   \n",
            " 0   Unnamed: 0             6019 non-null   int64   \n",
            " 1   Name                   6019 non-null   object  \n",
            " 2   Location               6019 non-null   object  \n",
            " 3   Year                   6019 non-null   int64   \n",
            " 4   Kilometers_Driven      6019 non-null   int64   \n",
            " 5   Fuel_Type              6019 non-null   category\n",
            " 6   Transmission           6019 non-null   category\n",
            " 7   Owner_Type             6019 non-null   category\n",
            " 8   Mileage                6017 non-null   object  \n",
            " 9   Engine                 5983 non-null   object  \n",
            " 10  Power                  5983 non-null   object  \n",
            " 11  Seats                  5977 non-null   float64 \n",
            " 12  New_Price              824 non-null    object  \n",
            " 13  Price                  6019 non-null   float64 \n",
            " 14  Ageofcar               6019 non-null   int64   \n",
            " 15  Brand                  6019 non-null   object  \n",
            " 16  Model                  6019 non-null   object  \n",
            " 17  Kilometers_Driven_log  6019 non-null   float64 \n",
            " 18  Price_log              6019 non-null   float64 \n",
            "dtypes: category(3), float64(4), int64(4), object(8)\n",
            "memory usage: 770.7+ KB\n"
          ]
        }
      ]
    },
    {
      "cell_type": "markdown",
      "source": [
        "**Important points**\n",
        "\n",
        "There are more soft parameters which also should be considered when buying a car, the wear and tear the car has been through and how much the company will have to work on car to make it ready for sale.\n",
        "\n",
        "If the car as already been in some kind of accident that would also effect the price.\n",
        "\n",
        "Other good to have feature like AC,Moon roof,Airbags can also have impact on the price.\n",
        "\n",
        "Car model that are too old will depreciate a lot can impact the demand ."
      ],
      "metadata": {
        "id": "c7-ycdsckdZ_"
      }
    }
  ],
  "metadata": {
    "kernelspec": {
      "display_name": "Python 3",
      "language": "python",
      "name": "python3"
    },
    "language_info": {
      "codemirror_mode": {
        "name": "ipython",
        "version": 3
      },
      "file_extension": ".py",
      "mimetype": "text/x-python",
      "name": "python",
      "nbconvert_exporter": "python",
      "pygments_lexer": "ipython3",
      "version": "3.7.4"
    },
    "colab": {
      "provenance": []
    }
  },
  "nbformat": 4,
  "nbformat_minor": 0
}